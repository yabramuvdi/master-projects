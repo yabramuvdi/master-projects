{
 "cells": [
  {
   "cell_type": "markdown",
   "metadata": {},
   "source": [
    "# Exploring Word Embeddings"
   ]
  },
  {
   "cell_type": "code",
   "execution_count": 23,
   "metadata": {},
   "outputs": [],
   "source": [
    "import numpy as np\n",
    "import pandas as pd\n",
    "import spacy\n",
    "import re\n",
    "import string\n",
    "import time\n",
    "import matplotlib.pyplot as plt\n",
    "from sklearn.feature_extraction.text import TfidfVectorizer\n",
    "from sklearn.linear_model import LogisticRegression\n",
    "from sklearn.model_selection import cross_val_score\n",
    "from sklearn.metrics import accuracy_score\n",
    "from sklearn.model_selection import train_test_split"
   ]
  },
  {
   "cell_type": "code",
   "execution_count": 2,
   "metadata": {},
   "outputs": [
    {
     "data": {
      "text/html": [
       "<div>\n",
       "<style scoped>\n",
       "    .dataframe tbody tr th:only-of-type {\n",
       "        vertical-align: middle;\n",
       "    }\n",
       "\n",
       "    .dataframe tbody tr th {\n",
       "        vertical-align: top;\n",
       "    }\n",
       "\n",
       "    .dataframe thead th {\n",
       "        text-align: right;\n",
       "    }\n",
       "</style>\n",
       "<table border=\"1\" class=\"dataframe\">\n",
       "  <thead>\n",
       "    <tr style=\"text-align: right;\">\n",
       "      <th></th>\n",
       "      <th>movie</th>\n",
       "      <th>positive</th>\n",
       "      <th>text</th>\n",
       "    </tr>\n",
       "  </thead>\n",
       "  <tbody>\n",
       "    <tr>\n",
       "      <th>25964</th>\n",
       "      <td>2892</td>\n",
       "      <td>True</td>\n",
       "      <td>Cinderella....&lt;br /&gt;&lt;br /&gt;I hadn't watched thi...</td>\n",
       "    </tr>\n",
       "    <tr>\n",
       "      <th>9679</th>\n",
       "      <td>928</td>\n",
       "      <td>True</td>\n",
       "      <td>In the \"goofs\" section for this film there's a...</td>\n",
       "    </tr>\n",
       "    <tr>\n",
       "      <th>1863</th>\n",
       "      <td>4415</td>\n",
       "      <td>True</td>\n",
       "      <td>Although some may call it a \"Cuban Cinema Para...</td>\n",
       "    </tr>\n",
       "    <tr>\n",
       "      <th>43564</th>\n",
       "      <td>1228</td>\n",
       "      <td>False</td>\n",
       "      <td>I, like many folks, believe the 1989 epic Lone...</td>\n",
       "    </tr>\n",
       "    <tr>\n",
       "      <th>9865</th>\n",
       "      <td>12162</td>\n",
       "      <td>False</td>\n",
       "      <td>This is not horror, as the first part was: Thi...</td>\n",
       "    </tr>\n",
       "    <tr>\n",
       "      <th>...</th>\n",
       "      <td>...</td>\n",
       "      <td>...</td>\n",
       "      <td>...</td>\n",
       "    </tr>\n",
       "    <tr>\n",
       "      <th>48993</th>\n",
       "      <td>10040</td>\n",
       "      <td>False</td>\n",
       "      <td>The filmmaker stayed true to the most accurate...</td>\n",
       "    </tr>\n",
       "    <tr>\n",
       "      <th>358</th>\n",
       "      <td>2171</td>\n",
       "      <td>False</td>\n",
       "      <td>This movie surely has one of the strangest the...</td>\n",
       "    </tr>\n",
       "    <tr>\n",
       "      <th>46412</th>\n",
       "      <td>3522</td>\n",
       "      <td>True</td>\n",
       "      <td>This noir may not be the best remembered film ...</td>\n",
       "    </tr>\n",
       "    <tr>\n",
       "      <th>46641</th>\n",
       "      <td>9315</td>\n",
       "      <td>True</td>\n",
       "      <td>I've heard a lot about Porno Holocaust and its...</td>\n",
       "    </tr>\n",
       "    <tr>\n",
       "      <th>30807</th>\n",
       "      <td>4365</td>\n",
       "      <td>False</td>\n",
       "      <td>some would argue this is better mainly because...</td>\n",
       "    </tr>\n",
       "  </tbody>\n",
       "</table>\n",
       "<p>25002 rows × 3 columns</p>\n",
       "</div>"
      ],
      "text/plain": [
       "       movie positive                                               text\n",
       "25964   2892     True  Cinderella....<br /><br />I hadn't watched thi...\n",
       "9679     928     True  In the \"goofs\" section for this film there's a...\n",
       "1863    4415     True  Although some may call it a \"Cuban Cinema Para...\n",
       "43564   1228    False  I, like many folks, believe the 1989 epic Lone...\n",
       "9865   12162    False  This is not horror, as the first part was: Thi...\n",
       "...      ...      ...                                                ...\n",
       "48993  10040    False  The filmmaker stayed true to the most accurate...\n",
       "358     2171    False  This movie surely has one of the strangest the...\n",
       "46412   3522     True  This noir may not be the best remembered film ...\n",
       "46641   9315     True  I've heard a lot about Porno Holocaust and its...\n",
       "30807   4365    False  some would argue this is better mainly because...\n",
       "\n",
       "[25002 rows x 3 columns]"
      ]
     },
     "execution_count": 2,
     "metadata": {},
     "output_type": "execute_result"
    }
   ],
   "source": [
    "movies = pd.read_csv('sentiment/movies.csv')\n",
    "# we will use half of the dataset in order to be able to test more stuff\n",
    "movies = movies.sample(frac=0.5)\n",
    "movies"
   ]
  },
  {
   "cell_type": "markdown",
   "metadata": {},
   "source": [
    "## Approach 1: Logistic regression of the Term-Frequency matrix"
   ]
  },
  {
   "cell_type": "code",
   "execution_count": 3,
   "metadata": {},
   "outputs": [],
   "source": [
    "# define preprocessing to be applied\n",
    "not_alphanumeric_or_space = re.compile('[^(\\w|\\s|\\d)]')\n",
    "nlp = spacy.load('en_core_web_sm')\n",
    "\n",
    "def preprocess(doc):\n",
    "    doc = re.sub(not_alphanumeric_or_space, '', doc)\n",
    "    words = [t.lemma_ for t in nlp(doc) if t.lemma_ != '-PRON-']\n",
    "    return ' '.join(words).lower()"
   ]
  },
  {
   "cell_type": "code",
   "execution_count": 4,
   "metadata": {},
   "outputs": [],
   "source": [
    "# define the vectorizer\n",
    "vect = TfidfVectorizer(min_df=2,\n",
    "                         max_df=.8,\n",
    "                         preprocessor=preprocess,\n",
    "                         stop_words='english',\n",
    "                         use_idf=False,\n",
    "                         norm=False)"
   ]
  },
  {
   "cell_type": "code",
   "execution_count": 5,
   "metadata": {},
   "outputs": [
    {
     "name": "stderr",
     "output_type": "stream",
     "text": [
      "/opt/conda/lib/python3.7/site-packages/sklearn/feature_extraction/text.py:385: UserWarning: Your stop_words may be inconsistent with your preprocessing. Tokenizing the stop words generated tokens ['make'] not in stop_words.\n",
      "  'stop_words.' % sorted(inconsistent))\n"
     ]
    },
    {
     "data": {
      "text/plain": [
       "TfidfVectorizer(analyzer='word', binary=False, decode_error='strict',\n",
       "                dtype=<class 'numpy.float64'>, encoding='utf-8',\n",
       "                input='content', lowercase=True, max_df=0.8, max_features=None,\n",
       "                min_df=2, ngram_range=(1, 1), norm=False,\n",
       "                preprocessor=<function preprocess at 0x7f57912e05f0>,\n",
       "                smooth_idf=True, stop_words='english', strip_accents=None,\n",
       "                sublinear_tf=False, token_pattern='(?u)\\\\b\\\\w\\\\w+\\\\b',\n",
       "                tokenizer=None, use_idf=False, vocabulary=None)"
      ]
     },
     "execution_count": 5,
     "metadata": {},
     "output_type": "execute_result"
    }
   ],
   "source": [
    "# learn the vocabulary from the whole dataset\n",
    "vect.fit(movies.text)"
   ]
  },
  {
   "cell_type": "code",
   "execution_count": 6,
   "metadata": {},
   "outputs": [],
   "source": [
    "def test_ratio(docs, target, vectorizer, model, test_size):\n",
    "    \"\"\" function to generate features from a vectorizer and test \n",
    "        the accuracy of a prediction model by performing a train/test split\n",
    "        \n",
    "        Returns: accuracy score on the test dataset\n",
    "    \"\"\"\n",
    "    \n",
    "    # split the data into train and test\n",
    "    X_train, X_test, y_train, y_test = train_test_split(docs, \n",
    "                                                        target, \n",
    "                                                        test_size= test_size)\n",
    "    \n",
    "    # fit the vectorizer to the train dataset and get the TF matrix\n",
    "    features_train = vectorizer.transform(X_train)\n",
    "    features_train = features_train.todense()\n",
    "\n",
    "    # fit the same vectorizer to the test set\n",
    "    features_test = vectorizer.transform(X_test)\n",
    "    features_test = features_test.todense()\n",
    "    \n",
    "    # fit the logistic regression\n",
    "    fitted_model = model.fit(features_train, y_train)\n",
    "    \n",
    "    # use the fitted model for prediction\n",
    "    y_pred = model.predict(features_test)\n",
    "    \n",
    "    return(accuracy_score(y_pred, y_test))"
   ]
  },
  {
   "cell_type": "code",
   "execution_count": 137,
   "metadata": {},
   "outputs": [],
   "source": [
    "# define the model\n",
    "LR = LogisticRegression(solver='lbfgs', n_jobs = -1)"
   ]
  },
  {
   "cell_type": "code",
   "execution_count": 138,
   "metadata": {},
   "outputs": [
    {
     "name": "stdout",
     "output_type": "stream",
     "text": [
      "Checking ratio:  0.975\n",
      "Checking ratio:  0.99\n"
     ]
    }
   ],
   "source": [
    "# several ratios between test/train \n",
    "ratios = [r/100 for r in list(range(50,99,5))]\n",
    "ratios.extend([0.975, 0.99])\n",
    "\n",
    "accuracies = []\n",
    "for ratio in ratios:\n",
    "    print(\"Checking ratio: \", ratio)\n",
    "    accuracies.append(test_ratio(movies.text, movies.positive, vect, LR, ratio))"
   ]
  },
  {
   "cell_type": "code",
   "execution_count": 9,
   "metadata": {},
   "outputs": [],
   "source": [
    "# save results in a dictionary\n",
    "results = dict()\n",
    "results['TF'] = accuracies"
   ]
  },
  {
   "cell_type": "code",
   "execution_count": 232,
   "metadata": {},
   "outputs": [
    {
     "data": {
      "image/png": "[encoded data removed]",
      "text/plain": [
       "<Figure size 432x288 with 1 Axes>"
      ]
     },
     "metadata": {
      "needs_background": "light"
     },
     "output_type": "display_data"
    }
   ],
   "source": [
    "ratios = [r*100 for r in ratios]\n",
    "plt.plot(ratios, results['TF'], label = 'TF')\n",
    "plt.ylabel('Test accuracy')\n",
    "plt.xlabel('Percentage of data for testing')\n",
    "plt.legend()\n",
    "plt.show()"
   ]
  },
  {
   "cell_type": "markdown",
   "metadata": {},
   "source": [
    "## Approach 2:"
   ]
  },
  {
   "cell_type": "code",
   "execution_count": 12,
   "metadata": {},
   "outputs": [],
   "source": [
    "# https://radimrehurek.com/gensim/models/word2vec.html\n",
    "import gensim.models"
   ]
  },
  {
   "cell_type": "code",
   "execution_count": 13,
   "metadata": {},
   "outputs": [],
   "source": [
    "# simple text cleanning for Word2Vec\n",
    "def embeddings_preprocess(docs):\n",
    "    \"\"\" function to apply basic text cleaning processes to\n",
    "        a list of documents\n",
    "        \n",
    "        Returns: a list of documents represented as lists of words\n",
    "    \"\"\"\n",
    "    \n",
    "    \n",
    "    #remove all HTML tags\n",
    "    cleaner_exp = re.compile('<.*?>|&([a-z0-9]+|#[0-9]{1,6}|#x[0-9a-f]{1,6});')\n",
    "    docs_clean = [re.sub(cleaner_exp, '', doc) for doc in docs]\n",
    "    \n",
    "    #Convert all docs to lowercase\n",
    "    docs_lc = [doc.lower() for doc in docs_clean]\n",
    "\n",
    "    #Delete all punctuation\n",
    "    docs_lc = [doc.translate(str.maketrans('', '', string.punctuation)) for doc in docs_lc]\n",
    "\n",
    "    #Delete all digits\n",
    "    docs_lc = [re.sub('\\d', '', doc) for doc in docs_lc]\n",
    "    \n",
    "    #Represent docs as lists of words\n",
    "    docs_words = [doc.split() for doc in docs_lc]\n",
    "\n",
    "    return(docs_words)"
   ]
  },
  {
   "cell_type": "code",
   "execution_count": 14,
   "metadata": {},
   "outputs": [],
   "source": [
    "clean_docs = embeddings_preprocess(movies.text)"
   ]
  },
  {
   "cell_type": "code",
   "execution_count": 16,
   "metadata": {},
   "outputs": [
    {
     "name": "stdout",
     "output_type": "stream",
     "text": [
      "This adaption contains two parts: <br /><br />1. The \"now\" time, when Gulliver is at home in England and soon is put into a mental asylum by the Evil Dr. Bates <br /><br />2. The \"described\" time, in which Gulliver describes his travels.<br /><br />The times are interspersed with a very choppy tempo, which makes willing suspense of disbelief far more difficult than it would have been if the movie simply would have discarded that part, and followed the book as written. In the book, there is no Dr. Bates, no asylum, and Mrs Gulliver gets very little mention. The travels - in plural - are depicted as one in the movie. There are several movies covering the topic of sane people dumped into asylum by some nasty person out there, look at them if you want that stuff. The \"now\" time part adds absolutely nothing to the story's value, is a complete invention by the movie adapters, and takes valuable time from the real story. All the time when this was going on I was longing for the next bit of real travel to be shown.<br /><br />So much for the drawbacks. The parts which actually are part of the real story are well done, and the CGI is really well done for its time. Many small (and a few medium-sized) parts of the real travels are simply cut out, but that does not make the story halt. This is AFAIK the only version which depicts all four travels, and for that the movie should get special mention. <br /><br />The two interspersed parts get approximately equal time. I rate the first part 0 out of 10, and the actual travel coverage as 8/10. Averaging out, I give it a 4/10. If only they would have cut the rubbish and focused 99% on the actual travels, since that cut would have freed up a lot of time much better spent on filling in the details cut from the travels. <br /><br />Why some adapter think that he is gifted enough to improve upon Swift's work, I do not know. My best guess is that CGI was so costly back in 1996 so that the movie company felt a need to incorporate a lot of filler which did not need elaborate sets, GCI, etc. in order to keep total costs under some limit, while at the same time producing a mini-series which clocked in at some set number of minutes.\n",
      "\n",
      " ------------------------------------------------------- \n",
      "\n",
      "['this', 'adaption', 'contains', 'two', 'parts', 'the', 'now', 'time', 'when', 'gulliver', 'is', 'at', 'home', 'in', 'england', 'and', 'soon', 'is', 'put', 'into', 'a', 'mental', 'asylum', 'by', 'the', 'evil', 'dr', 'bates', 'the', 'described', 'time', 'in', 'which', 'gulliver', 'describes', 'his', 'travelsthe', 'times', 'are', 'interspersed', 'with', 'a', 'very', 'choppy', 'tempo', 'which', 'makes', 'willing', 'suspense', 'of', 'disbelief', 'far', 'more', 'difficult', 'than', 'it', 'would', 'have', 'been', 'if', 'the', 'movie', 'simply', 'would', 'have', 'discarded', 'that', 'part', 'and', 'followed', 'the', 'book', 'as', 'written', 'in', 'the', 'book', 'there', 'is', 'no', 'dr', 'bates', 'no', 'asylum', 'and', 'mrs', 'gulliver', 'gets', 'very', 'little', 'mention', 'the', 'travels', 'in', 'plural', 'are', 'depicted', 'as', 'one', 'in', 'the', 'movie', 'there', 'are', 'several', 'movies', 'covering', 'the', 'topic', 'of', 'sane', 'people', 'dumped', 'into', 'asylum', 'by', 'some', 'nasty', 'person', 'out', 'there', 'look', 'at', 'them', 'if', 'you', 'want', 'that', 'stuff', 'the', 'now', 'time', 'part', 'adds', 'absolutely', 'nothing', 'to', 'the', 'storys', 'value', 'is', 'a', 'complete', 'invention', 'by', 'the', 'movie', 'adapters', 'and', 'takes', 'valuable', 'time', 'from', 'the', 'real', 'story', 'all', 'the', 'time', 'when', 'this', 'was', 'going', 'on', 'i', 'was', 'longing', 'for', 'the', 'next', 'bit', 'of', 'real', 'travel', 'to', 'be', 'shownso', 'much', 'for', 'the', 'drawbacks', 'the', 'parts', 'which', 'actually', 'are', 'part', 'of', 'the', 'real', 'story', 'are', 'well', 'done', 'and', 'the', 'cgi', 'is', 'really', 'well', 'done', 'for', 'its', 'time', 'many', 'small', 'and', 'a', 'few', 'mediumsized', 'parts', 'of', 'the', 'real', 'travels', 'are', 'simply', 'cut', 'out', 'but', 'that', 'does', 'not', 'make', 'the', 'story', 'halt', 'this', 'is', 'afaik', 'the', 'only', 'version', 'which', 'depicts', 'all', 'four', 'travels', 'and', 'for', 'that', 'the', 'movie', 'should', 'get', 'special', 'mention', 'the', 'two', 'interspersed', 'parts', 'get', 'approximately', 'equal', 'time', 'i', 'rate', 'the', 'first', 'part', 'out', 'of', 'and', 'the', 'actual', 'travel', 'coverage', 'as', 'averaging', 'out', 'i', 'give', 'it', 'a', 'if', 'only', 'they', 'would', 'have', 'cut', 'the', 'rubbish', 'and', 'focused', 'on', 'the', 'actual', 'travels', 'since', 'that', 'cut', 'would', 'have', 'freed', 'up', 'a', 'lot', 'of', 'time', 'much', 'better', 'spent', 'on', 'filling', 'in', 'the', 'details', 'cut', 'from', 'the', 'travels', 'why', 'some', 'adapter', 'think', 'that', 'he', 'is', 'gifted', 'enough', 'to', 'improve', 'upon', 'swifts', 'work', 'i', 'do', 'not', 'know', 'my', 'best', 'guess', 'is', 'that', 'cgi', 'was', 'so', 'costly', 'back', 'in', 'so', 'that', 'the', 'movie', 'company', 'felt', 'a', 'need', 'to', 'incorporate', 'a', 'lot', 'of', 'filler', 'which', 'did', 'not', 'need', 'elaborate', 'sets', 'gci', 'etc', 'in', 'order', 'to', 'keep', 'total', 'costs', 'under', 'some', 'limit', 'while', 'at', 'the', 'same', 'time', 'producing', 'a', 'miniseries', 'which', 'clocked', 'in', 'at', 'some', 'set', 'number', 'of', 'minutes']\n"
     ]
    }
   ],
   "source": [
    "# get a feel for the cleanning\n",
    "i = np.random.randint(0, len(movies))\n",
    "print(movies.iloc[i,2])\n",
    "print(\"\\n ------------------------------------------------------- \\n\")\n",
    "print(clean_docs[i])"
   ]
  },
  {
   "cell_type": "markdown",
   "metadata": {},
   "source": [
    "### 2.1. First Word2Vec\n",
    "\n",
    "- Embeddings size = 100\n",
    "- Window size = 5\n",
    "- Skipgram\n",
    "- K-Negative = 5"
   ]
  },
  {
   "cell_type": "code",
   "execution_count": 175,
   "metadata": {},
   "outputs": [],
   "source": [
    "model = gensim.models.Word2Vec(size=100, \n",
    "                               alpha=0.025, \n",
    "                               window=5, \n",
    "                               min_count=5, \n",
    "                               sample=0.001, \n",
    "                               workers=-1, \n",
    "                               min_alpha=0.0001, \n",
    "                               sg=1, # Training algorithm: 1 for skip-gram; otherwise CBOW\n",
    "                               hs=0, # If 1, hierarchical softmax will be used for model training. If 0, and negative is non-zero, negative sampling will be used.\n",
    "                               negative=5, # K-negative\n",
    "                               ns_exponent=0.75,\n",
    "                               cbow_mean=1, \n",
    "                               iter=5, \n",
    "                               null_word=0, \n",
    "                               trim_rule=None, \n",
    "                               sorted_vocab=1, \n",
    "                               batch_words=10000, \n",
    "                               compute_loss=False, \n",
    "                               callbacks=(), \n",
    "                               max_final_vocab=None)"
   ]
  },
  {
   "cell_type": "code",
   "execution_count": 176,
   "metadata": {},
   "outputs": [],
   "source": [
    "# 1. build the vocabulary\n",
    "model.build_vocab(clean_docs)"
   ]
  },
  {
   "cell_type": "code",
   "execution_count": 177,
   "metadata": {},
   "outputs": [
    {
     "data": {
      "text/plain": [
       "(0, 0)"
      ]
     },
     "execution_count": 177,
     "metadata": {},
     "output_type": "execute_result"
    }
   ],
   "source": [
    "# 2. train the model\n",
    "model.train(clean_docs,\n",
    "            total_examples=model.corpus_count,\n",
    "            epochs=100)"
   ]
  },
  {
   "cell_type": "code",
   "execution_count": 178,
   "metadata": {},
   "outputs": [
    {
     "data": {
      "text/plain": [
       "{'hadnt': <gensim.models.keyedvectors.Vocab at 0x7f56a66a4b50>,\n",
       " 'watched': <gensim.models.keyedvectors.Vocab at 0x7f56a66bc190>,\n",
       " 'this': <gensim.models.keyedvectors.Vocab at 0x7f56a66bc0d0>,\n",
       " 'film': <gensim.models.keyedvectors.Vocab at 0x7f56a66bc390>,\n",
       " 'for': <gensim.models.keyedvectors.Vocab at 0x7f576ddce110>,\n",
       " 'about': <gensim.models.keyedvectors.Vocab at 0x7f56a786e0d0>,\n",
       " 'five': <gensim.models.keyedvectors.Vocab at 0x7f576e0f8e90>,\n",
       " 'years': <gensim.models.keyedvectors.Vocab at 0x7f576e0ee390>,\n",
       " 'the': <gensim.models.keyedvectors.Vocab at 0x7f56a66bc4d0>,\n",
       " 'last': <gensim.models.keyedvectors.Vocab at 0x7f576ddce5d0>,\n",
       " 'time': <gensim.models.keyedvectors.Vocab at 0x7f576e0ee250>,\n",
       " 'i': <gensim.models.keyedvectors.Vocab at 0x7f56a6c85cd0>,\n",
       " 'saw': <gensim.models.keyedvectors.Vocab at 0x7f56a6c85590>,\n",
       " 'it': <gensim.models.keyedvectors.Vocab at 0x7f56a6c85710>,\n",
       " 'magic': <gensim.models.keyedvectors.Vocab at 0x7f56a6c85150>,\n",
       " 'remains': <gensim.models.keyedvectors.Vocab at 0x7f56a6c85b10>,\n",
       " 'there': <gensim.models.keyedvectors.Vocab at 0x7f56a6c85d10>,\n",
       " 'is': <gensim.models.keyedvectors.Vocab at 0x7f56a6c85090>,\n",
       " 'something': <gensim.models.keyedvectors.Vocab at 0x7f576dd92b90>,\n",
       " 'that': <gensim.models.keyedvectors.Vocab at 0x7f576dd92490>,\n",
       " 'definitely': <gensim.models.keyedvectors.Vocab at 0x7f576e0f7b10>,\n",
       " 'contains': <gensim.models.keyedvectors.Vocab at 0x7f576e0f73d0>,\n",
       " 'storybook': <gensim.models.keyedvectors.Vocab at 0x7f576e0f7450>,\n",
       " 'feel': <gensim.models.keyedvectors.Vocab at 0x7f576e0f7950>,\n",
       " 'songs': <gensim.models.keyedvectors.Vocab at 0x7f56a70c9290>,\n",
       " 'entertain': <gensim.models.keyedvectors.Vocab at 0x7f56a6ca1ed0>,\n",
       " 'and': <gensim.models.keyedvectors.Vocab at 0x7f56a6ca15d0>,\n",
       " 'secondary': <gensim.models.keyedvectors.Vocab at 0x7f56a6ca1210>,\n",
       " 'characters': <gensim.models.keyedvectors.Vocab at 0x7f56a6ca1650>,\n",
       " 'all': <gensim.models.keyedvectors.Vocab at 0x7f56a6ca1550>,\n",
       " 'please': <gensim.models.keyedvectors.Vocab at 0x7f56a6ca1150>,\n",
       " 'villains': <gensim.models.keyedvectors.Vocab at 0x7f56a6ca1990>,\n",
       " 'in': <gensim.models.keyedvectors.Vocab at 0x7f578848f450>,\n",
       " 'form': <gensim.models.keyedvectors.Vocab at 0x7f578848f550>,\n",
       " 'of': <gensim.models.keyedvectors.Vocab at 0x7f578848f710>,\n",
       " 'step': <gensim.models.keyedvectors.Vocab at 0x7f578848f6d0>,\n",
       " 'sisters': <gensim.models.keyedvectors.Vocab at 0x7f56a669fd50>,\n",
       " 'are': <gensim.models.keyedvectors.Vocab at 0x7f56a669fd90>,\n",
       " 'perfectly': <gensim.models.keyedvectors.Vocab at 0x7f56a669fa10>,\n",
       " 'evil': <gensim.models.keyedvectors.Vocab at 0x7f56a669f110>,\n",
       " 'vile': <gensim.models.keyedvectors.Vocab at 0x7f56a669f450>,\n",
       " 'then': <gensim.models.keyedvectors.Vocab at 0x7f56a669fbd0>,\n",
       " 'most': <gensim.models.keyedvectors.Vocab at 0x7f56a669f250>,\n",
       " 'magical': <gensim.models.keyedvectors.Vocab at 0x7f56a669f4d0>,\n",
       " 'disney': <gensim.models.keyedvectors.Vocab at 0x7f56a669ff10>,\n",
       " 'mice': <gensim.models.keyedvectors.Vocab at 0x7f56a669fe50>,\n",
       " 'making': <gensim.models.keyedvectors.Vocab at 0x7f56a669f610>,\n",
       " 'dress': <gensim.models.keyedvectors.Vocab at 0x7f56a669fb10>,\n",
       " 'well': <gensim.models.keyedvectors.Vocab at 0x7f56a669f190>,\n",
       " 'you': <gensim.models.keyedvectors.Vocab at 0x7f56a669ff90>,\n",
       " 'know': <gensim.models.keyedvectors.Vocab at 0x7f56a669f590>,\n",
       " 'rest': <gensim.models.keyedvectors.Vocab at 0x7f56a669f910>,\n",
       " 'to': <gensim.models.keyedvectors.Vocab at 0x7f56a669fcd0>,\n",
       " 'sum': <gensim.models.keyedvectors.Vocab at 0x7f56a669fed0>,\n",
       " 'up': <gensim.models.keyedvectors.Vocab at 0x7f56a669f310>,\n",
       " 'four': <gensim.models.keyedvectors.Vocab at 0x7f56a669f290>,\n",
       " 'princess': <gensim.models.keyedvectors.Vocab at 0x7f56a669fc90>,\n",
       " 'movies': <gensim.models.keyedvectors.Vocab at 0x7f56a669ffd0>,\n",
       " 'great': <gensim.models.keyedvectors.Vocab at 0x7f56a669fe10>,\n",
       " 'but': <gensim.models.keyedvectors.Vocab at 0x7f56a669fc10>,\n",
       " 'a': <gensim.models.keyedvectors.Vocab at 0x7f56a669f510>,\n",
       " 'charming': <gensim.models.keyedvectors.Vocab at 0x7f56a669f3d0>,\n",
       " 'experience': <gensim.models.keyedvectors.Vocab at 0x7f56a669f210>,\n",
       " 'watch': <gensim.models.keyedvectors.Vocab at 0x7f56a669f8d0>,\n",
       " 'enjoy': <gensim.models.keyedvectors.Vocab at 0x7f56a66acb50>,\n",
       " 'oh': <gensim.models.keyedvectors.Vocab at 0x7f56a66ac7d0>,\n",
       " 'course': <gensim.models.keyedvectors.Vocab at 0x7f576e057b90>,\n",
       " 'cinderella': <gensim.models.keyedvectors.Vocab at 0x7f576e057650>,\n",
       " 'wonderful': <gensim.models.keyedvectors.Vocab at 0x7f576e057310>,\n",
       " 'as': <gensim.models.keyedvectors.Vocab at 0x7f576e057510>,\n",
       " 'main': <gensim.models.keyedvectors.Vocab at 0x7f576e057fd0>,\n",
       " 'character': <gensim.models.keyedvectors.Vocab at 0x7f576e057c10>,\n",
       " 'movieif': <gensim.models.keyedvectors.Vocab at 0x7f576e057d50>,\n",
       " 'think': <gensim.models.keyedvectors.Vocab at 0x7f576e057c90>,\n",
       " 'can': <gensim.models.keyedvectors.Vocab at 0x7f576e057890>,\n",
       " 'really': <gensim.models.keyedvectors.Vocab at 0x7f576e057810>,\n",
       " 'lost': <gensim.models.keyedvectors.Vocab at 0x7f576e057f90>,\n",
       " 'their': <gensim.models.keyedvectors.Vocab at 0x7f576e057dd0>,\n",
       " 'charm': <gensim.models.keyedvectors.Vocab at 0x7f576e057150>,\n",
       " 'with': <gensim.models.keyedvectors.Vocab at 0x7f576e057f10>,\n",
       " 'wood': <gensim.models.keyedvectors.Vocab at 0x7f576e0579d0>,\n",
       " 'others': <gensim.models.keyedvectors.Vocab at 0x7f576e0570d0>,\n",
       " 'movie': <gensim.models.keyedvectors.Vocab at 0x7f576e057e10>,\n",
       " 'has': <gensim.models.keyedvectors.Vocab at 0x7f576e057590>,\n",
       " 'such': <gensim.models.keyedvectors.Vocab at 0x7f576e057190>,\n",
       " 'simply': <gensim.models.keyedvectors.Vocab at 0x7f576e0573d0>,\n",
       " 'cant': <gensim.models.keyedvectors.Vocab at 0x7f576e057b50>,\n",
       " 'help': <gensim.models.keyedvectors.Vocab at 0x7f576e057ad0>,\n",
       " 'say': <gensim.models.keyedvectors.Vocab at 0x7f576e057390>,\n",
       " 'moral': <gensim.models.keyedvectors.Vocab at 0x7f576e057790>,\n",
       " 'story': <gensim.models.keyedvectors.Vocab at 0x7f576e0575d0>,\n",
       " 'dreams': <gensim.models.keyedvectors.Vocab at 0x7f576e057250>,\n",
       " 'come': <gensim.models.keyedvectors.Vocab at 0x7f576e057b10>,\n",
       " 'true': <gensim.models.keyedvectors.Vocab at 0x7f576e0577d0>,\n",
       " 'real': <gensim.models.keyedvectors.Vocab at 0x7f576e057a90>,\n",
       " 'world': <gensim.models.keyedvectors.Vocab at 0x7f576e057350>,\n",
       " 'some': <gensim.models.keyedvectors.Vocab at 0x7f576e057bd0>,\n",
       " 'believers': <gensim.models.keyedvectors.Vocab at 0x7f576e057f50>,\n",
       " 'its': <gensim.models.keyedvectors.Vocab at 0x7f576e057490>,\n",
       " 'even': <gensim.models.keyedvectors.Vocab at 0x7f576e0571d0>,\n",
       " 'more': <gensim.models.keyedvectors.Vocab at 0x7f576e057e50>,\n",
       " 'when': <gensim.models.keyedvectors.Vocab at 0x7f576e057550>,\n",
       " 'her': <gensim.models.keyedvectors.Vocab at 0x7f576e057750>,\n",
       " 'rainbow': <gensim.models.keyedvectors.Vocab at 0x7f576e057450>,\n",
       " 'comes': <gensim.models.keyedvectors.Vocab at 0x7f576e057e90>,\n",
       " 'smiling': <gensim.models.keyedvectors.Vocab at 0x7f576e057290>,\n",
       " 'goofs': <gensim.models.keyedvectors.Vocab at 0x7f576e0576d0>,\n",
       " 'section': <gensim.models.keyedvectors.Vocab at 0x7f576e0578d0>,\n",
       " 'theres': <gensim.models.keyedvectors.Vocab at 0x7f576e057a10>,\n",
       " 'comment': <gensim.models.keyedvectors.Vocab at 0x7f576e057d10>,\n",
       " 'effect': <gensim.models.keyedvectors.Vocab at 0x7f576e057990>,\n",
       " 'mistake': <gensim.models.keyedvectors.Vocab at 0x7f576e057850>,\n",
       " 'continuity': <gensim.models.keyedvectors.Vocab at 0x7f576e057c50>,\n",
       " 'where': <gensim.models.keyedvectors.Vocab at 0x7f576e057d90>,\n",
       " 'car': <gensim.models.keyedvectors.Vocab at 0x7f576e057ed0>,\n",
       " 'seen': <gensim.models.keyedvectors.Vocab at 0x7f576e057610>,\n",
       " 'be': <gensim.models.keyedvectors.Vocab at 0x7f576e057210>,\n",
       " 'parked': <gensim.models.keyedvectors.Vocab at 0x7f576e0574d0>,\n",
       " 'different': <gensim.models.keyedvectors.Vocab at 0x7f576e057710>,\n",
       " 'place': <gensim.models.keyedvectors.Vocab at 0x7f576e0572d0>,\n",
       " 'from': <gensim.models.keyedvectors.Vocab at 0x7f576e057050>,\n",
       " 'previous': <gensim.models.keyedvectors.Vocab at 0x7f576e0fc6d0>,\n",
       " 'shot': <gensim.models.keyedvectors.Vocab at 0x7f5768103f90>,\n",
       " 'same': <gensim.models.keyedvectors.Vocab at 0x7f576ddace10>,\n",
       " 'scene': <gensim.models.keyedvectors.Vocab at 0x7f576ddaced0>,\n",
       " 'incorrect': <gensim.models.keyedvectors.Vocab at 0x7f576ddacdd0>,\n",
       " 'one': <gensim.models.keyedvectors.Vocab at 0x7f56a6c99e90>,\n",
       " 'views': <gensim.models.keyedvectors.Vocab at 0x7f56a6c99410>,\n",
       " 'flat': <gensim.models.keyedvectors.Vocab at 0x7f56a6c99190>,\n",
       " 'other': <gensim.models.keyedvectors.Vocab at 0x7f56a6c99650>,\n",
       " 'across': <gensim.models.keyedvectors.Vocab at 0x7f56a6c99990>,\n",
       " 'street': <gensim.models.keyedvectors.Vocab at 0x7f56a6c99b90>,\n",
       " 'whole': <gensim.models.keyedvectors.Vocab at 0x7f56a6c994d0>,\n",
       " 'purpose': <gensim.models.keyedvectors.Vocab at 0x7f56a6c99b10>,\n",
       " 'segment': <gensim.models.keyedvectors.Vocab at 0x7f56a6c99690>,\n",
       " 'show': <gensim.models.keyedvectors.Vocab at 0x7f56a6c99910>,\n",
       " 'how': <gensim.models.keyedvectors.Vocab at 0x7f56a6c99ad0>,\n",
       " 'auguste': <gensim.models.keyedvectors.Vocab at 0x7f56a6c99750>,\n",
       " 'who': <gensim.models.keyedvectors.Vocab at 0x7f56a6c996d0>,\n",
       " 'may': <gensim.models.keyedvectors.Vocab at 0x7f56a6c99490>,\n",
       " 'made': <gensim.models.keyedvectors.Vocab at 0x7f56a6c99390>,\n",
       " 'each': <gensim.models.keyedvectors.Vocab at 0x7f56a6c99a10>,\n",
       " 'almost': <gensim.models.keyedvectors.Vocab at 0x7f56a6c99050>,\n",
       " 'cross': <gensim.models.keyedvectors.Vocab at 0x7f56a6c99f10>,\n",
       " 'paths': <gensim.models.keyedvectors.Vocab at 0x7f56a6c99850>,\n",
       " 'happens': <gensim.models.keyedvectors.Vocab at 0x7f576ddc3090>,\n",
       " 'several': <gensim.models.keyedvectors.Vocab at 0x7f576ddc3050>,\n",
       " 'times': <gensim.models.keyedvectors.Vocab at 0x7f576ddc3250>,\n",
       " 'never': <gensim.models.keyedvectors.Vocab at 0x7f576ddc30d0>,\n",
       " 'quite': <gensim.models.keyedvectors.Vocab at 0x7f576ddc3c90>,\n",
       " 'do': <gensim.models.keyedvectors.Vocab at 0x7f576ddc3950>,\n",
       " 'so': <gensim.models.keyedvectors.Vocab at 0x7f576ddc3c10>,\n",
       " 'until': <gensim.models.keyedvectors.Vocab at 0x7f576ddc3350>,\n",
       " 'circumstances': <gensim.models.keyedvectors.Vocab at 0x7f576ddc3850>,\n",
       " 'throw': <gensim.models.keyedvectors.Vocab at 0x7f576ddc3e10>,\n",
       " 'them': <gensim.models.keyedvectors.Vocab at 0x7f576ddc3650>,\n",
       " 'together': <gensim.models.keyedvectors.Vocab at 0x7f576ddc3710>,\n",
       " 'on': <gensim.models.keyedvectors.Vocab at 0x7f576ddc3990>,\n",
       " 'ferry': <gensim.models.keyedvectors.Vocab at 0x7f576ddc35d0>,\n",
       " 'at': <gensim.models.keyedvectors.Vocab at 0x7f576ddc3b50>,\n",
       " 'end': <gensim.models.keyedvectors.Vocab at 0x7f576ddc3a50>,\n",
       " 'here': <gensim.models.keyedvectors.Vocab at 0x7f576ddc3790>,\n",
       " 'implication': <gensim.models.keyedvectors.Vocab at 0x7f576ddc38d0>,\n",
       " 'joseph': <gensim.models.keyedvectors.Vocab at 0x7f576ddc3690>,\n",
       " 'manipulated': <gensim.models.keyedvectors.Vocab at 0x7f576ddc36d0>,\n",
       " 'things': <gensim.models.keyedvectors.Vocab at 0x7f576ddc3d90>,\n",
       " 'having': <gensim.models.keyedvectors.Vocab at 0x7f576ddc32d0>,\n",
       " 'ticket': <gensim.models.keyedvectors.Vocab at 0x7f576ddc3cd0>,\n",
       " 'see': <gensim.models.keyedvectors.Vocab at 0x7f576ddc3d50>,\n",
       " 'which': <gensim.models.keyedvectors.Vocab at 0x7f576ddc3f10>,\n",
       " 'sailing': <gensim.models.keyedvectors.Vocab at 0x7f576ddc3410>,\n",
       " 'she': <gensim.models.keyedvectors.Vocab at 0x7f576ddc3110>,\n",
       " 'booked': <gensim.models.keyedvectors.Vocab at 0x7f576ddc3b90>,\n",
       " 'although': <gensim.models.keyedvectors.Vocab at 0x7f576ddc20d0>,\n",
       " 'call': <gensim.models.keyedvectors.Vocab at 0x7f576ddc2790>,\n",
       " 'cuban': <gensim.models.keyedvectors.Vocab at 0x7f576ddc2f10>,\n",
       " 'cinema': <gensim.models.keyedvectors.Vocab at 0x7f56a6c985d0>,\n",
       " 'paradiso': <gensim.models.keyedvectors.Vocab at 0x7f56a6c98ad0>,\n",
       " 'closer': <gensim.models.keyedvectors.Vocab at 0x7f56a6c98fd0>,\n",
       " 'green': <gensim.models.keyedvectors.Vocab at 0x7f56a6c983d0>,\n",
       " 'was': <gensim.models.keyedvectors.Vocab at 0x7f56a6c98550>,\n",
       " 'my': <gensim.models.keyedvectors.Vocab at 0x7f56a6c98910>,\n",
       " 'valley': <gensim.models.keyedvectors.Vocab at 0x7f56a6c98c10>,\n",
       " 'memory': <gensim.models.keyedvectors.Vocab at 0x7f56a6c98e50>,\n",
       " 'mourning': <gensim.models.keyedvectors.Vocab at 0x7f56a6c98710>,\n",
       " 'innocence': <gensim.models.keyedvectors.Vocab at 0x7f56a6c98410>,\n",
       " 'smartly': <gensim.models.keyedvectors.Vocab at 0x7f56a6c98810>,\n",
       " 'avoids': <gensim.models.keyedvectors.Vocab at 0x7f56a6c98450>,\n",
       " 'falling': <gensim.models.keyedvectors.Vocab at 0x7f56a6c98790>,\n",
       " 'into': <gensim.models.keyedvectors.Vocab at 0x7f56a6c98890>,\n",
       " 'political': <gensim.models.keyedvectors.Vocab at 0x7f56a6c984d0>,\n",
       " 'trap': <gensim.models.keyedvectors.Vocab at 0x7f56a6c98210>,\n",
       " 'taking': <gensim.models.keyedvectors.Vocab at 0x7f56a6c98c90>,\n",
       " 'sides': <gensim.models.keyedvectors.Vocab at 0x7f56a6c98590>,\n",
       " 'focusing': <gensim.models.keyedvectors.Vocab at 0x7f56a6c9b4d0>,\n",
       " 'instead': <gensim.models.keyedvectors.Vocab at 0x7f56a6c9b410>,\n",
       " 'human': <gensim.models.keyedvectors.Vocab at 0x7f56a6c9b610>,\n",
       " 'frailty': <gensim.models.keyedvectors.Vocab at 0x7f56a6c9b150>,\n",
       " 'importance': <gensim.models.keyedvectors.Vocab at 0x7f56a6c9b310>,\n",
       " 'family': <gensim.models.keyedvectors.Vocab at 0x7f56a6c9b590>,\n",
       " 'filled': <gensim.models.keyedvectors.Vocab at 0x7f56a6c9b690>,\n",
       " 'good': <gensim.models.keyedvectors.Vocab at 0x7f56a6c9b650>,\n",
       " 'acting': <gensim.models.keyedvectors.Vocab at 0x7f56a6c9b210>,\n",
       " 'particular': <gensim.models.keyedvectors.Vocab at 0x7f56a6c9bbd0>,\n",
       " 'mexican': <gensim.models.keyedvectors.Vocab at 0x7f56a6c9b890>,\n",
       " 'actress': <gensim.models.keyedvectors.Vocab at 0x7f56a6c9bc10>,\n",
       " 'diana': <gensim.models.keyedvectors.Vocab at 0x7f56a6c9b510>,\n",
       " 'plays': <gensim.models.keyedvectors.Vocab at 0x7f56a6c9b6d0>,\n",
       " 'wife': <gensim.models.keyedvectors.Vocab at 0x7f56a6c9bb10>,\n",
       " 'masterpiece': <gensim.models.keyedvectors.Vocab at 0x7f56a6c9b050>,\n",
       " 'references': <gensim.models.keyedvectors.Vocab at 0x7f56a6c9bd90>,\n",
       " 'classic': <gensim.models.keyedvectors.Vocab at 0x7f56a6c9b7d0>,\n",
       " 'casablanca': <gensim.models.keyedvectors.Vocab at 0x7f56a6c9b810>,\n",
       " 'chaplins': <gensim.models.keyedvectors.Vocab at 0x7f56a6c9b750>,\n",
       " 'city': <gensim.models.keyedvectors.Vocab at 0x7f56a6c9b9d0>,\n",
       " 'lights': <gensim.models.keyedvectors.Vocab at 0x7f56a6c9b1d0>,\n",
       " 'garcia': <gensim.models.keyedvectors.Vocab at 0x7f56a6c9bdd0>,\n",
       " 'small': <gensim.models.keyedvectors.Vocab at 0x7f56a6c9b910>,\n",
       " 'role': <gensim.models.keyedvectors.Vocab at 0x7f56a6c9bfd0>,\n",
       " 'critical': <gensim.models.keyedvectors.Vocab at 0x7f56a6c9be90>,\n",
       " 'dramatic': <gensim.models.keyedvectors.Vocab at 0x7f56a6c9be10>,\n",
       " 'payoff': <gensim.models.keyedvectors.Vocab at 0x7f56a6c9b190>,\n",
       " 'tv': <gensim.models.keyedvectors.Vocab at 0x7f56a6c9bcd0>,\n",
       " 'director': <gensim.models.keyedvectors.Vocab at 0x7f576e0698d0>,\n",
       " 'stanford': <gensim.models.keyedvectors.Vocab at 0x7f576e069f50>,\n",
       " 'brown': <gensim.models.keyedvectors.Vocab at 0x7f576e0697d0>,\n",
       " 'rare': <gensim.models.keyedvectors.Vocab at 0x7f576e0699d0>,\n",
       " 'return': <gensim.models.keyedvectors.Vocab at 0x7f576e069650>,\n",
       " 'remember': <gensim.models.keyedvectors.Vocab at 0x7f576e069590>,\n",
       " 'homeless': <gensim.models.keyedvectors.Vocab at 0x7f576e069350>,\n",
       " 'bum': <gensim.models.keyedvectors.Vocab at 0x7f576e069450>,\n",
       " 'acts': <gensim.models.keyedvectors.Vocab at 0x7f576e069c90>,\n",
       " 'greek': <gensim.models.keyedvectors.Vocab at 0x7f576e069750>,\n",
       " 'chorus': <gensim.models.keyedvectors.Vocab at 0x7f576e069a50>,\n",
       " 'superbly': <gensim.models.keyedvectors.Vocab at 0x7f576e069e50>,\n",
       " 'pity': <gensim.models.keyedvectors.Vocab at 0x7f576e069090>,\n",
       " 'originally': <gensim.models.keyedvectors.Vocab at 0x7f576e069ed0>,\n",
       " 'titled': <gensim.models.keyedvectors.Vocab at 0x7f576e069b10>,\n",
       " 'dreaming': <gensim.models.keyedvectors.Vocab at 0x7f576e069cd0>,\n",
       " 'julia': <gensim.models.keyedvectors.Vocab at 0x7f576e069d50>,\n",
       " 'been': <gensim.models.keyedvectors.Vocab at 0x7f576e069a10>,\n",
       " 'released': <gensim.models.keyedvectors.Vocab at 0x7f576e069b90>,\n",
       " 'states': <gensim.models.keyedvectors.Vocab at 0x7f576e0690d0>,\n",
       " 'by': <gensim.models.keyedvectors.Vocab at 0x7f576e069850>,\n",
       " 'atrocious': <gensim.models.keyedvectors.Vocab at 0x7f576e069150>,\n",
       " 'title': <gensim.models.keyedvectors.Vocab at 0x7f576e0692d0>,\n",
       " 'blood': <gensim.models.keyedvectors.Vocab at 0x7f576e069890>,\n",
       " 'nothing': <gensim.models.keyedvectors.Vocab at 0x7f576e0696d0>,\n",
       " 'like': <gensim.models.keyedvectors.Vocab at 0x7f576e069910>,\n",
       " 'many': <gensim.models.keyedvectors.Vocab at 0x7f576e069950>,\n",
       " 'folks': <gensim.models.keyedvectors.Vocab at 0x7f576e069790>,\n",
       " 'believe': <gensim.models.keyedvectors.Vocab at 0x7f576e069810>,\n",
       " 'epic': <gensim.models.keyedvectors.Vocab at 0x7f576e069050>,\n",
       " 'lonesome': <gensim.models.keyedvectors.Vocab at 0x7f576e069110>,\n",
       " 'dove': <gensim.models.keyedvectors.Vocab at 0x7f576e069210>,\n",
       " 'best': <gensim.models.keyedvectors.Vocab at 0x7f576e0693d0>,\n",
       " 'westerns': <gensim.models.keyedvectors.Vocab at 0x7f576e0695d0>,\n",
       " 'ever': <gensim.models.keyedvectors.Vocab at 0x7f576e0694d0>,\n",
       " 'produced': <gensim.models.keyedvectors.Vocab at 0x7f576e069510>,\n",
       " 'maybe': <gensim.models.keyedvectors.Vocab at 0x7f576e069250>,\n",
       " 'realizing': <gensim.models.keyedvectors.Vocab at 0x7f576e069410>,\n",
       " 'sequels': <gensim.models.keyedvectors.Vocab at 0x7f576e069490>,\n",
       " 'case': <gensim.models.keyedvectors.Vocab at 0x7f576e069290>,\n",
       " 'prequel': <gensim.models.keyedvectors.Vocab at 0x7f576e069310>,\n",
       " 'certain': <gensim.models.keyedvectors.Vocab at 0x7f576e0691d0>,\n",
       " 'disappoint': <gensim.models.keyedvectors.Vocab at 0x7f576e069990>,\n",
       " 'expectations': <gensim.models.keyedvectors.Vocab at 0x7f576e069690>,\n",
       " 'were': <gensim.models.keyedvectors.Vocab at 0x7f576e069b50>,\n",
       " 'low': <gensim.models.keyedvectors.Vocab at 0x7f576e069fd0>,\n",
       " 'comanche': <gensim.models.keyedvectors.Vocab at 0x7f576e069d10>,\n",
       " 'moon': <gensim.models.keyedvectors.Vocab at 0x7f576e069e10>,\n",
       " 'met': <gensim.models.keyedvectors.Vocab at 0x7f576e069d90>,\n",
       " 'expectation': <gensim.models.keyedvectors.Vocab at 0x7f576e069c50>,\n",
       " 'marginal': <gensim.models.keyedvectors.Vocab at 0x7f576e069dd0>,\n",
       " 'directing': <gensim.models.keyedvectors.Vocab at 0x7f576e069e90>,\n",
       " 'poor': <gensim.models.keyedvectors.Vocab at 0x7f576e069a90>,\n",
       " 'casting': <gensim.models.keyedvectors.Vocab at 0x7f576e069f10>,\n",
       " 'frankly': <gensim.models.keyedvectors.Vocab at 0x7f576e069550>,\n",
       " 'lousy': <gensim.models.keyedvectors.Vocab at 0x7f576e069f90>,\n",
       " 'script': <gensim.models.keyedvectors.Vocab at 0x7f576e069390>,\n",
       " 'created': <gensim.models.keyedvectors.Vocab at 0x7f56a86bced0>,\n",
       " 'western': <gensim.models.keyedvectors.Vocab at 0x7f56a8683650>,\n",
       " 'heroes': <gensim.models.keyedvectors.Vocab at 0x7f56a669cf50>,\n",
       " 'captains': <gensim.models.keyedvectors.Vocab at 0x7f56d0f0c090>,\n",
       " 'mccrae': <gensim.models.keyedvectors.Vocab at 0x7f56d0f0ce50>,\n",
       " 'due': <gensim.models.keyedvectors.Vocab at 0x7f5768106e90>,\n",
       " 'incredibly': <gensim.models.keyedvectors.Vocab at 0x7f5768106e10>,\n",
       " 'strong': <gensim.models.keyedvectors.Vocab at 0x7f56a67777d0>,\n",
       " 'performances': <gensim.models.keyedvectors.Vocab at 0x7f56a79b9ed0>,\n",
       " 'robert': <gensim.models.keyedvectors.Vocab at 0x7f56a79b96d0>,\n",
       " 'duvall': <gensim.models.keyedvectors.Vocab at 0x7f56a7f8ed10>,\n",
       " 'tommy': <gensim.models.keyedvectors.Vocab at 0x7f5768118910>,\n",
       " 'lee': <gensim.models.keyedvectors.Vocab at 0x7f56a7dbd410>,\n",
       " 'jones': <gensim.models.keyedvectors.Vocab at 0x7f56a7dbdfd0>,\n",
       " 'prior': <gensim.models.keyedvectors.Vocab at 0x7f56a7dbfcd0>,\n",
       " 'living': <gensim.models.keyedvectors.Vocab at 0x7f56a7dbfa50>,\n",
       " 'we': <gensim.models.keyedvectors.Vocab at 0x7f56a70e0e50>,\n",
       " 'believed': <gensim.models.keyedvectors.Vocab at 0x7f56a74420d0>,\n",
       " 'they': <gensim.models.keyedvectors.Vocab at 0x7f56a8692a90>,\n",
       " 'bravely': <gensim.models.keyedvectors.Vocab at 0x7f56a8692d10>,\n",
       " 'fought': <gensim.models.keyedvectors.Vocab at 0x7f56a8692090>,\n",
       " 'rid': <gensim.models.keyedvectors.Vocab at 0x7f56a86921d0>,\n",
       " 'texas': <gensim.models.keyedvectors.Vocab at 0x7f56a8692510>,\n",
       " 'bandits': <gensim.models.keyedvectors.Vocab at 0x7f5768103d50>,\n",
       " 'savage': <gensim.models.keyedvectors.Vocab at 0x7f576a9ad250>,\n",
       " 'indians': <gensim.models.keyedvectors.Vocab at 0x7f576a9ad050>,\n",
       " 'during': <gensim.models.keyedvectors.Vocab at 0x7f576e069190>,\n",
       " 'if': <gensim.models.keyedvectors.Vocab at 0x7f576e056050>,\n",
       " 'had': <gensim.models.keyedvectors.Vocab at 0x7f576e056090>,\n",
       " 'only': <gensim.models.keyedvectors.Vocab at 0x7f576e0560d0>,\n",
       " 'would': <gensim.models.keyedvectors.Vocab at 0x7f576e056110>,\n",
       " 'these': <gensim.models.keyedvectors.Vocab at 0x7f576e056150>,\n",
       " 'two': <gensim.models.keyedvectors.Vocab at 0x7f576e056190>,\n",
       " 'boneheads': <gensim.models.keyedvectors.Vocab at 0x7f576e0561d0>,\n",
       " 'couple': <gensim.models.keyedvectors.Vocab at 0x7f576e056210>,\n",
       " 'incompetent': <gensim.models.keyedvectors.Vocab at 0x7f576e056250>,\n",
       " 'cowardly': <gensim.models.keyedvectors.Vocab at 0x7f576e056290>,\n",
       " 'idiots': <gensim.models.keyedvectors.Vocab at 0x7f576e0562d0>,\n",
       " 'supposedly': <gensim.models.keyedvectors.Vocab at 0x7f576e056310>,\n",
       " 'chased': <gensim.models.keyedvectors.Vocab at 0x7f576e056350>,\n",
       " 'blue': <gensim.models.keyedvectors.Vocab at 0x7f576e056390>,\n",
       " 'duck': <gensim.models.keyedvectors.Vocab at 0x7f576e0563d0>,\n",
       " 'over': <gensim.models.keyedvectors.Vocab at 0x7f576e056410>,\n",
       " 'managed': <gensim.models.keyedvectors.Vocab at 0x7f576e056450>,\n",
       " 'capture': <gensim.models.keyedvectors.Vocab at 0x7f576e056490>,\n",
       " 'or': <gensim.models.keyedvectors.Vocab at 0x7f576e0564d0>,\n",
       " 'kill': <gensim.models.keyedvectors.Vocab at 0x7f576e056510>,\n",
       " 'him': <gensim.models.keyedvectors.Vocab at 0x7f576e056550>,\n",
       " 'calls': <gensim.models.keyedvectors.Vocab at 0x7f576e056590>,\n",
       " 'boot': <gensim.models.keyedvectors.Vocab at 0x7f576e0565d0>,\n",
       " 'heel': <gensim.models.keyedvectors.Vocab at 0x7f576e056610>,\n",
       " 'convinced': <gensim.models.keyedvectors.Vocab at 0x7f576e056650>,\n",
       " 'settle': <gensim.models.keyedvectors.Vocab at 0x7f576e056690>,\n",
       " 'down': <gensim.models.keyedvectors.Vocab at 0x7f576e0566d0>,\n",
       " 'raise': <gensim.models.keyedvectors.Vocab at 0x7f576e056710>,\n",
       " 'cattle': <gensim.models.keyedvectors.Vocab at 0x7f576e056750>,\n",
       " 'wasnt': <gensim.models.keyedvectors.Vocab at 0x7f576e056790>,\n",
       " 'decent': <gensim.models.keyedvectors.Vocab at 0x7f576e0567d0>,\n",
       " 'fistfight': <gensim.models.keyedvectors.Vocab at 0x7f576e056810>,\n",
       " 'gun': <gensim.models.keyedvectors.Vocab at 0x7f576e056850>,\n",
       " 'fight': <gensim.models.keyedvectors.Vocab at 0x7f576e056890>,\n",
       " 'entire': <gensim.models.keyedvectors.Vocab at 0x7f576e0568d0>,\n",
       " 'miniseries': <gensim.models.keyedvectors.Vocab at 0x7f576e056910>,\n",
       " 'punch': <gensim.models.keyedvectors.Vocab at 0x7f576e056950>,\n",
       " 'mccrea': <gensim.models.keyedvectors.Vocab at 0x7f576e056990>,\n",
       " 'sucker': <gensim.models.keyedvectors.Vocab at 0x7f576e0569d0>,\n",
       " 'punching': <gensim.models.keyedvectors.Vocab at 0x7f576e056a10>,\n",
       " 'funny': <gensim.models.keyedvectors.Vocab at 0x7f576e056a50>,\n",
       " 'out': <gensim.models.keyedvectors.Vocab at 0x7f576e056a90>,\n",
       " 'wit': <gensim.models.keyedvectors.Vocab at 0x7f576e056ad0>,\n",
       " 'claras': <gensim.models.keyedvectors.Vocab at 0x7f576e056b10>,\n",
       " 'love': <gensim.models.keyedvectors.Vocab at 0x7f576e056b50>,\n",
       " 'drunken': <gensim.models.keyedvectors.Vocab at 0x7f576e056b90>,\n",
       " 'unshaven': <gensim.models.keyedvectors.Vocab at 0x7f576e056bd0>,\n",
       " 'slob': <gensim.models.keyedvectors.Vocab at 0x7f576e056c10>,\n",
       " 'completely': <gensim.models.keyedvectors.Vocab at 0x7f576e056c50>,\n",
       " 'implausible': <gensim.models.keyedvectors.Vocab at 0x7f576e056c90>,\n",
       " 'dispassionate': <gensim.models.keyedvectors.Vocab at 0x7f576e056cd0>,\n",
       " 'sullen': <gensim.models.keyedvectors.Vocab at 0x7f576e056d10>,\n",
       " 'loner': <gensim.models.keyedvectors.Vocab at 0x7f576e056d50>,\n",
       " 'defies': <gensim.models.keyedvectors.Vocab at 0x7f576e056d90>,\n",
       " 'logic': <gensim.models.keyedvectors.Vocab at 0x7f576e056dd0>,\n",
       " 'cinematography': <gensim.models.keyedvectors.Vocab at 0x7f576e056e10>,\n",
       " 'excellent': <gensim.models.keyedvectors.Vocab at 0x7f576e056e50>,\n",
       " 'superior': <gensim.models.keyedvectors.Vocab at 0x7f576e056e90>,\n",
       " 'original': <gensim.models.keyedvectors.Vocab at 0x7f576e056ed0>,\n",
       " 'credit': <gensim.models.keyedvectors.Vocab at 0x7f576e056f10>,\n",
       " 'goes': <gensim.models.keyedvectors.Vocab at 0x7f576e056f50>,\n",
       " 'not': <gensim.models.keyedvectors.Vocab at 0x7f576e056f90>,\n",
       " 'hd': <gensim.models.keyedvectors.Vocab at 0x7f576e056fd0>,\n",
       " 'technology': <gensim.models.keyedvectors.Vocab at 0x7f576e082050>,\n",
       " 'cinematographer': <gensim.models.keyedvectors.Vocab at 0x7f576e082090>,\n",
       " 'better': <gensim.models.keyedvectors.Vocab at 0x7f576e0820d0>,\n",
       " 'than': <gensim.models.keyedvectors.Vocab at 0x7f576e082110>,\n",
       " 'anything': <gensim.models.keyedvectors.Vocab at 0x7f576e082150>,\n",
       " 'else': <gensim.models.keyedvectors.Vocab at 0x7f576e082190>,\n",
       " 'three': <gensim.models.keyedvectors.Vocab at 0x7f576e0821d0>,\n",
       " 'nights': <gensim.models.keyedvectors.Vocab at 0x7f576e082210>,\n",
       " 'sadly': <gensim.models.keyedvectors.Vocab at 0x7f576e082250>,\n",
       " 'thats': <gensim.models.keyedvectors.Vocab at 0x7f576e082290>,\n",
       " 'saying': <gensim.models.keyedvectors.Vocab at 0x7f576e0822d0>,\n",
       " 'much': <gensim.models.keyedvectors.Vocab at 0x7f576e082310>,\n",
       " 'horror': <gensim.models.keyedvectors.Vocab at 0x7f576e082350>,\n",
       " 'first': <gensim.models.keyedvectors.Vocab at 0x7f576e082390>,\n",
       " 'part': <gensim.models.keyedvectors.Vocab at 0x7f576e0823d0>,\n",
       " 'campy': <gensim.models.keyedvectors.Vocab at 0x7f576e082410>,\n",
       " 'light': <gensim.models.keyedvectors.Vocab at 0x7f576e082450>,\n",
       " 'humorous': <gensim.models.keyedvectors.Vocab at 0x7f576e082490>,\n",
       " 'entertainment': <gensim.models.keyedvectors.Vocab at 0x7f576e0824d0>,\n",
       " 'action': <gensim.models.keyedvectors.Vocab at 0x7f576e082510>,\n",
       " 'starts': <gensim.models.keyedvectors.Vocab at 0x7f576e082550>,\n",
       " 'right': <gensim.models.keyedvectors.Vocab at 0x7f576e082590>,\n",
       " 'away': <gensim.models.keyedvectors.Vocab at 0x7f576e0825d0>,\n",
       " 'no': <gensim.models.keyedvectors.Vocab at 0x7f576e082610>,\n",
       " 'explanations': <gensim.models.keyedvectors.Vocab at 0x7f576e082650>,\n",
       " 'boobs': <gensim.models.keyedvectors.Vocab at 0x7f576e082690>,\n",
       " 'dont': <gensim.models.keyedvectors.Vocab at 0x7f576e0826d0>,\n",
       " 'complain': <gensim.models.keyedvectors.Vocab at 0x7f576e082710>,\n",
       " 'understand': <gensim.models.keyedvectors.Vocab at 0x7f576e082750>,\n",
       " 'correctly': <gensim.models.keyedvectors.Vocab at 0x7f576e082790>,\n",
       " 'those': <gensim.models.keyedvectors.Vocab at 0x7f576e0827d0>,\n",
       " 'today': <gensim.models.keyedvectors.Vocab at 0x7f576e082810>,\n",
       " 'amongst': <gensim.models.keyedvectors.Vocab at 0x7f576e082850>,\n",
       " 'teenage': <gensim.models.keyedvectors.Vocab at 0x7f576e082890>,\n",
       " 'girls': <gensim.models.keyedvectors.Vocab at 0x7f576e0828d0>,\n",
       " 'us': <gensim.models.keyedvectors.Vocab at 0x7f576e082910>,\n",
       " 'brings': <gensim.models.keyedvectors.Vocab at 0x7f576e082950>,\n",
       " 'mind': <gensim.models.keyedvectors.Vocab at 0x7f576e082990>,\n",
       " 'fact': <gensim.models.keyedvectors.Vocab at 0x7f576e0829d0>,\n",
       " 'pamela': <gensim.models.keyedvectors.Vocab at 0x7f576e082a10>,\n",
       " 'bruces': <gensim.models.keyedvectors.Vocab at 0x7f576e082a50>,\n",
       " 'sister': <gensim.models.keyedvectors.Vocab at 0x7f576e082a90>,\n",
       " 'cannot': <gensim.models.keyedvectors.Vocab at 0x7f576e082ad0>,\n",
       " 'thought': <gensim.models.keyedvectors.Vocab at 0x7f576e082b10>,\n",
       " 'without': <gensim.models.keyedvectors.Vocab at 0x7f576e082b50>,\n",
       " 'compare': <gensim.models.keyedvectors.Vocab at 0x7f576e082b90>,\n",
       " 'again': <gensim.models.keyedvectors.Vocab at 0x7f576e082bd0>,\n",
       " 'too': <gensim.models.keyedvectors.Vocab at 0x7f576e082c10>,\n",
       " 'clothing': <gensim.models.keyedvectors.Vocab at 0x7f576e082c50>,\n",
       " 'mainly': <gensim.models.keyedvectors.Vocab at 0x7f576e082c90>,\n",
       " 'pants': <gensim.models.keyedvectors.Vocab at 0x7f576e082cd0>,\n",
       " 'hair': <gensim.models.keyedvectors.Vocab at 0x7f576e082d10>,\n",
       " 'hard': <gensim.models.keyedvectors.Vocab at 0x7f576e082d50>,\n",
       " 'tell': <gensim.models.keyedvectors.Vocab at 0x7f576e082d90>,\n",
       " 'what': <gensim.models.keyedvectors.Vocab at 0x7f576e082dd0>,\n",
       " 'decade': <gensim.models.keyedvectors.Vocab at 0x7f576e082e10>,\n",
       " 'strange': <gensim.models.keyedvectors.Vocab at 0x7f576e082e50>,\n",
       " 'visibly': <gensim.models.keyedvectors.Vocab at 0x7f576e082e90>,\n",
       " 'pathological': <gensim.models.keyedvectors.Vocab at 0x7f576e082ed0>,\n",
       " 'ones': <gensim.models.keyedvectors.Vocab at 0x7f576e082f10>,\n",
       " 'especially': <gensim.models.keyedvectors.Vocab at 0x7f576e082f50>,\n",
       " 'personnel': <gensim.models.keyedvectors.Vocab at 0x7f576e082f90>,\n",
       " 'camp': <gensim.models.keyedvectors.Vocab at 0x7f576e082fd0>,\n",
       " 'mental': <gensim.models.keyedvectors.Vocab at 0x7f576e05b050>,\n",
       " 'rehabilitation': <gensim.models.keyedvectors.Vocab at 0x7f576e05b090>,\n",
       " 'summer': <gensim.models.keyedvectors.Vocab at 0x7f576e05b0d0>,\n",
       " 'people': <gensim.models.keyedvectors.Vocab at 0x7f576e05b110>,\n",
       " 'older': <gensim.models.keyedvectors.Vocab at 0x7f576e05b150>,\n",
       " 'actors': <gensim.models.keyedvectors.Vocab at 0x7f576e05b190>,\n",
       " 'must': <gensim.models.keyedvectors.Vocab at 0x7f576e05b1d0>,\n",
       " 'least': <gensim.models.keyedvectors.Vocab at 0x7f576e05b210>,\n",
       " 'theyre': <gensim.models.keyedvectors.Vocab at 0x7f576e05b250>,\n",
       " 'supposed': <gensim.models.keyedvectors.Vocab at 0x7f576e05b290>,\n",
       " 'methods': <gensim.models.keyedvectors.Vocab at 0x7f576e05b2d0>,\n",
       " 'used': <gensim.models.keyedvectors.Vocab at 0x7f576e05b310>,\n",
       " 'dyke': <gensim.models.keyedvectors.Vocab at 0x7f576e05b350>,\n",
       " 'unpleasant': <gensim.models.keyedvectors.Vocab at 0x7f576e05b390>,\n",
       " 'actually': <gensim.models.keyedvectors.Vocab at 0x7f576e05b3d0>,\n",
       " 'have': <gensim.models.keyedvectors.Vocab at 0x7f576e05b410>,\n",
       " 'common': <gensim.models.keyedvectors.Vocab at 0x7f576e05b450>,\n",
       " 'worse': <gensim.models.keyedvectors.Vocab at 0x7f576e05b490>,\n",
       " 'every': <gensim.models.keyedvectors.Vocab at 0x7f576e05b4d0>,\n",
       " 'way': <gensim.models.keyedvectors.Vocab at 0x7f576e05b510>,\n",
       " 'im': <gensim.models.keyedvectors.Vocab at 0x7f576e05b550>,\n",
       " 'alone': <gensim.models.keyedvectors.Vocab at 0x7f576e05b590>,\n",
       " 'crap': <gensim.models.keyedvectors.Vocab at 0x7f576e05b5d0>,\n",
       " 'sorry': <gensim.models.keyedvectors.Vocab at 0x7f576e05b610>,\n",
       " 'lured': <gensim.models.keyedvectors.Vocab at 0x7f576e05b650>,\n",
       " 'found': <gensim.models.keyedvectors.Vocab at 0x7f576e05b690>,\n",
       " 'lil': <gensim.models.keyedvectors.Vocab at 0x7f576e05b6d0>,\n",
       " 'bill': <gensim.models.keyedvectors.Vocab at 0x7f576e05b710>,\n",
       " 'idea': <gensim.models.keyedvectors.Vocab at 0x7f576e05b750>,\n",
       " 'came': <gensim.models.keyedvectors.Vocab at 0x7f576e05b790>,\n",
       " 'months': <gensim.models.keyedvectors.Vocab at 0x7f576e05b7d0>,\n",
       " 'later': <gensim.models.keyedvectors.Vocab at 0x7f576e05b810>,\n",
       " 'honestly': <gensim.models.keyedvectors.Vocab at 0x7f576e05b850>,\n",
       " 'since': <gensim.models.keyedvectors.Vocab at 0x7f576e05b890>,\n",
       " 'appeal': <gensim.models.keyedvectors.Vocab at 0x7f576e05b8d0>,\n",
       " 'gave': <gensim.models.keyedvectors.Vocab at 0x7f576e05b910>,\n",
       " 'fair': <gensim.models.keyedvectors.Vocab at 0x7f576e05b950>,\n",
       " 'spike': <gensim.models.keyedvectors.Vocab at 0x7f576e05b990>,\n",
       " 'tries': <gensim.models.keyedvectors.Vocab at 0x7f576e05b9d0>,\n",
       " 'make': <gensim.models.keyedvectors.Vocab at 0x7f576e05ba10>,\n",
       " 'himself': <gensim.models.keyedvectors.Vocab at 0x7f576e05ba50>,\n",
       " 'hes': <gensim.models.keyedvectors.Vocab at 0x7f576e05ba90>,\n",
       " 'he': <gensim.models.keyedvectors.Vocab at 0x7f576e05bad0>,\n",
       " 'fox': <gensim.models.keyedvectors.Vocab at 0x7f576e05bb10>,\n",
       " 'didnt': <gensim.models.keyedvectors.Vocab at 0x7f576e05bb50>,\n",
       " 'bother': <gensim.models.keyedvectors.Vocab at 0x7f576e05bb90>,\n",
       " 'hide': <gensim.models.keyedvectors.Vocab at 0x7f576e05bbd0>,\n",
       " 'strings': <gensim.models.keyedvectors.Vocab at 0x7f576e05bc10>,\n",
       " 'took': <gensim.models.keyedvectors.Vocab at 0x7f576e05bc50>,\n",
       " 'box': <gensim.models.keyedvectors.Vocab at 0x7f576e05bc90>,\n",
       " 'his': <gensim.models.keyedvectors.Vocab at 0x7f576e05bcd0>,\n",
       " 'sketches': <gensim.models.keyedvectors.Vocab at 0x7f576e05bd10>,\n",
       " 'try': <gensim.models.keyedvectors.Vocab at 0x7f576e05bd50>,\n",
       " 'isnt': <gensim.models.keyedvectors.Vocab at 0x7f576e05bd90>,\n",
       " 'writers': <gensim.models.keyedvectors.Vocab at 0x7f576e05bdd0>,\n",
       " 'struggling': <gensim.models.keyedvectors.Vocab at 0x7f576e05be10>,\n",
       " 'write': <gensim.models.keyedvectors.Vocab at 0x7f576e05be50>,\n",
       " 'material': <gensim.models.keyedvectors.Vocab at 0x7f576e05be90>,\n",
       " 'notalent': <gensim.models.keyedvectors.Vocab at 0x7f576e05bed0>,\n",
       " 'host': <gensim.models.keyedvectors.Vocab at 0x7f576e05bf10>,\n",
       " 'waste': <gensim.models.keyedvectors.Vocab at 0x7f576e05bf50>,\n",
       " 'your': <gensim.models.keyedvectors.Vocab at 0x7f576e05bf90>,\n",
       " 'need': <gensim.models.keyedvectors.Vocab at 0x7f576e05bfd0>,\n",
       " 'get': <gensim.models.keyedvectors.Vocab at 0x7f56d0e6d050>,\n",
       " 'fing': <gensim.models.keyedvectors.Vocab at 0x7f56d0e6d090>,\n",
       " 'act': <gensim.models.keyedvectors.Vocab at 0x7f56d0e6d0d0>,\n",
       " 'trying': <gensim.models.keyedvectors.Vocab at 0x7f56d0e6d110>,\n",
       " 'just': <gensim.models.keyedvectors.Vocab at 0x7f56d0e6d150>,\n",
       " 'another': <gensim.models.keyedvectors.Vocab at 0x7f56d0e6d190>,\n",
       " 'network': <gensim.models.keyedvectors.Vocab at 0x7f56d0e6d1d0>,\n",
       " 'elephant': <gensim.models.keyedvectors.Vocab at 0x7f56d0e6d210>,\n",
       " 'walk': <gensim.models.keyedvectors.Vocab at 0x7f56d0e6d250>,\n",
       " 'thoroughly': <gensim.models.keyedvectors.Vocab at 0x7f56d0e6d290>,\n",
       " 'dull': <gensim.models.keyedvectors.Vocab at 0x7f56d0e6d2d0>,\n",
       " 'happy': <gensim.models.keyedvectors.Vocab at 0x7f56d0e6d310>,\n",
       " 'finally': <gensim.models.keyedvectors.Vocab at 0x7f56d0e6d350>,\n",
       " 'herd': <gensim.models.keyedvectors.Vocab at 0x7f56d0e6d390>,\n",
       " 'elephants': <gensim.models.keyedvectors.Vocab at 0x7f56d0e6d3d0>,\n",
       " 'through': <gensim.models.keyedvectors.Vocab at 0x7f56d0e6d410>,\n",
       " 'mansion': <gensim.models.keyedvectors.Vocab at 0x7f56d0e6d450>,\n",
       " 'ended': <gensim.models.keyedvectors.Vocab at 0x7f56d0e6d490>,\n",
       " 'considering': <gensim.models.keyedvectors.Vocab at 0x7f56d0e6d4d0>,\n",
       " 'money': <gensim.models.keyedvectors.Vocab at 0x7f56d0e6d510>,\n",
       " 'cast': <gensim.models.keyedvectors.Vocab at 0x7f56d0e6d550>,\n",
       " 'youd': <gensim.models.keyedvectors.Vocab at 0x7f56d0e6d590>,\n",
       " 'sure': <gensim.models.keyedvectors.Vocab at 0x7f56d0e6d5d0>,\n",
       " 'expect': <gensim.models.keyedvectors.Vocab at 0x7f56d0e6d610>,\n",
       " 'lot': <gensim.models.keyedvectors.Vocab at 0x7f56d0e6d650>,\n",
       " 'though': <gensim.models.keyedvectors.Vocab at 0x7f56d0e6d690>,\n",
       " 'also': <gensim.models.keyedvectors.Vocab at 0x7f56d0e6d6d0>,\n",
       " 'question': <gensim.models.keyedvectors.Vocab at 0x7f56d0e6d710>,\n",
       " 'odd': <gensim.models.keyedvectors.Vocab at 0x7f56d0e6d750>,\n",
       " 'dana': <gensim.models.keyedvectors.Vocab at 0x7f56d0e6d790>,\n",
       " 'andrews': <gensim.models.keyedvectors.Vocab at 0x7f56d0e6d7d0>,\n",
       " 'man': <gensim.models.keyedvectors.Vocab at 0x7f56d0e6d810>,\n",
       " 'elizabeth': <gensim.models.keyedvectors.Vocab at 0x7f56d0e6d850>,\n",
       " 'taylor': <gensim.models.keyedvectors.Vocab at 0x7f56d0e6d890>,\n",
       " 'age': <gensim.models.keyedvectors.Vocab at 0x7f56d0e6d8d0>,\n",
       " 'difference': <gensim.models.keyedvectors.Vocab at 0x7f56d0e6d910>,\n",
       " 'pair': <gensim.models.keyedvectors.Vocab at 0x7f56d0e6d950>,\n",
       " 'perhaps': <gensim.models.keyedvectors.Vocab at 0x7f56d0e6d990>,\n",
       " 'fault': <gensim.models.keyedvectors.Vocab at 0x7f56d0e6d9d0>,\n",
       " 'substituting': <gensim.models.keyedvectors.Vocab at 0x7f56d0e6da10>,\n",
       " 'miss': <gensim.models.keyedvectors.Vocab at 0x7f56d0e6da50>,\n",
       " 'vivian': <gensim.models.keyedvectors.Vocab at 0x7f56d0e6da90>,\n",
       " 'leigh': <gensim.models.keyedvectors.Vocab at 0x7f56d0e6dad0>,\n",
       " 'minute': <gensim.models.keyedvectors.Vocab at 0x7f56d0e6db10>,\n",
       " 'leighs': <gensim.models.keyedvectors.Vocab at 0x7f56d0e6db50>,\n",
       " 'deteriorating': <gensim.models.keyedvectors.Vocab at 0x7f56d0e6db90>,\n",
       " 'visualizing': <gensim.models.keyedvectors.Vocab at 0x7f56d0e6dbd0>,\n",
       " 'addition': <gensim.models.keyedvectors.Vocab at 0x7f56d0e6dc10>,\n",
       " 'an': <gensim.models.keyedvectors.Vocab at 0x7f56d0e6dc50>,\n",
       " 'english': <gensim.models.keyedvectors.Vocab at 0x7f56d0e6dc90>,\n",
       " 'woman': <gensim.models.keyedvectors.Vocab at 0x7f56d0e6dcd0>,\n",
       " 'doesnt': <gensim.models.keyedvectors.Vocab at 0x7f56d0e6dd10>,\n",
       " 'seem': <gensim.models.keyedvectors.Vocab at 0x7f56d0e6dd50>,\n",
       " 'using': <gensim.models.keyedvectors.Vocab at 0x7f56d0e6dd90>,\n",
       " 'begins': <gensim.models.keyedvectors.Vocab at 0x7f56d0e6ddd0>,\n",
       " 'peter': <gensim.models.keyedvectors.Vocab at 0x7f56d0e6de10>,\n",
       " 'finch': <gensim.models.keyedvectors.Vocab at 0x7f56d0e6de50>,\n",
       " 'meeting': <gensim.models.keyedvectors.Vocab at 0x7f56d0e6de90>,\n",
       " 'marrying': <gensim.models.keyedvectors.Vocab at 0x7f56d0e6ded0>,\n",
       " 'england': <gensim.models.keyedvectors.Vocab at 0x7f56d0e6df10>,\n",
       " 'plan': <gensim.models.keyedvectors.Vocab at 0x7f56d0e6df50>,\n",
       " 'tea': <gensim.models.keyedvectors.Vocab at 0x7f56d0e6df90>,\n",
       " 'plantation': <gensim.models.keyedvectors.Vocab at 0x7f56d0e6dfd0>,\n",
       " 'ceylon': <gensim.models.keyedvectors.Vocab at 0x7f56d0e69050>,\n",
       " 'sri': <gensim.models.keyedvectors.Vocab at 0x7f56d0e69090>,\n",
       " 'lanka': <gensim.models.keyedvectors.Vocab at 0x7f56d0e690d0>,\n",
       " 'seems': <gensim.models.keyedvectors.Vocab at 0x7f56d0e69110>,\n",
       " 'life': <gensim.models.keyedvectors.Vocab at 0x7f56d0e69150>,\n",
       " 'however': <gensim.models.keyedvectors.Vocab at 0x7f56d0e69190>,\n",
       " 'women': <gensim.models.keyedvectors.Vocab at 0x7f56d0e691d0>,\n",
       " 'talk': <gensim.models.keyedvectors.Vocab at 0x7f56d0e69210>,\n",
       " 'household': <gensim.models.keyedvectors.Vocab at 0x7f56d0e69250>,\n",
       " 'staff': <gensim.models.keyedvectors.Vocab at 0x7f56d0e69290>,\n",
       " 'resent': <gensim.models.keyedvectors.Vocab at 0x7f56d0e692d0>,\n",
       " 'top': <gensim.models.keyedvectors.Vocab at 0x7f56d0e69310>,\n",
       " 'once': <gensim.models.keyedvectors.Vocab at 0x7f56d0e69350>,\n",
       " 'back': <gensim.models.keyedvectors.Vocab at 0x7f56d0e69390>,\n",
       " 'home': <gensim.models.keyedvectors.Vocab at 0x7f56d0e693d0>,\n",
       " 'behaves': <gensim.models.keyedvectors.Vocab at 0x7f56d0e69410>,\n",
       " 'boorish': <gensim.models.keyedvectors.Vocab at 0x7f56d0e69450>,\n",
       " 'jerk': <gensim.models.keyedvectors.Vocab at 0x7f56d0e69490>,\n",
       " 'miserable': <gensim.models.keyedvectors.Vocab at 0x7f56d0e694d0>,\n",
       " 'neighbor': <gensim.models.keyedvectors.Vocab at 0x7f56d0e69510>,\n",
       " 'declares': <gensim.models.keyedvectors.Vocab at 0x7f56d0e69550>,\n",
       " 'undying': <gensim.models.keyedvectors.Vocab at 0x7f56d0e69590>,\n",
       " 'passion': <gensim.models.keyedvectors.Vocab at 0x7f56d0e695d0>,\n",
       " 'yet': <gensim.models.keyedvectors.Vocab at 0x7f56d0e69610>,\n",
       " 'ready': <gensim.models.keyedvectors.Vocab at 0x7f56d0e69650>,\n",
       " 'abandon': <gensim.models.keyedvectors.Vocab at 0x7f56d0e69690>,\n",
       " 'marriage': <gensim.models.keyedvectors.Vocab at 0x7f56d0e696d0>,\n",
       " 'treats': <gensim.models.keyedvectors.Vocab at 0x7f56d0e69710>,\n",
       " 'liz': <gensim.models.keyedvectors.Vocab at 0x7f56d0e69750>,\n",
       " 'object': <gensim.models.keyedvectors.Vocab at 0x7f56d0e69790>,\n",
       " 'cholera': <gensim.models.keyedvectors.Vocab at 0x7f56d0e697d0>,\n",
       " 'strikes': <gensim.models.keyedvectors.Vocab at 0x7f56d0e69810>,\n",
       " 'work': <gensim.models.keyedvectors.Vocab at 0x7f56d0e69850>,\n",
       " 'save': <gensim.models.keyedvectors.Vocab at 0x7f56d0e69890>,\n",
       " 'point': <gensim.models.keyedvectors.Vocab at 0x7f56d0e698d0>,\n",
       " 'care': <gensim.models.keyedvectors.Vocab at 0x7f56d0e69910>,\n",
       " 'absolutely': <gensim.models.keyedvectors.Vocab at 0x7f56d0e69950>,\n",
       " 'chemistry': <gensim.models.keyedvectors.Vocab at 0x7f56d0e69990>,\n",
       " 'between': <gensim.models.keyedvectors.Vocab at 0x7f56d0e699d0>,\n",
       " 'dialog': <gensim.models.keyedvectors.Vocab at 0x7f56d0e69a10>,\n",
       " 'pretty': <gensim.models.keyedvectors.Vocab at 0x7f56d0e69a50>,\n",
       " 'why': <gensim.models.keyedvectors.Vocab at 0x7f56d0e69a90>,\n",
       " 'leave': <gensim.models.keyedvectors.Vocab at 0x7f56d0e69ad0>,\n",
       " 'weasel': <gensim.models.keyedvectors.Vocab at 0x7f56d0e69b10>,\n",
       " 'husband': <gensim.models.keyedvectors.Vocab at 0x7f56d0e69b50>,\n",
       " 'within': <gensim.models.keyedvectors.Vocab at 0x7f56d0e69b90>,\n",
       " 'days': <gensim.models.keyedvectors.Vocab at 0x7f56d0e69bd0>,\n",
       " 'arriving': <gensim.models.keyedvectors.Vocab at 0x7f56d0e69c10>,\n",
       " 'particularly': <gensim.models.keyedvectors.Vocab at 0x7f56d0e69c50>,\n",
       " 'engaging': <gensim.models.keyedvectors.Vocab at 0x7f56d0e69c90>,\n",
       " 'convincing': <gensim.models.keyedvectors.Vocab at 0x7f56d0e69cd0>,\n",
       " 'despite': <gensim.models.keyedvectors.Vocab at 0x7f56d0e69d10>,\n",
       " 'budget': <gensim.models.keyedvectors.Vocab at 0x7f56d0e69d50>,\n",
       " 'paramount': <gensim.models.keyedvectors.Vocab at 0x7f56d0e69d90>,\n",
       " 'sluggish': <gensim.models.keyedvectors.Vocab at 0x7f56d0e69dd0>,\n",
       " 'mess': <gensim.models.keyedvectors.Vocab at 0x7f56d0e69e10>,\n",
       " 'surprised': <gensim.models.keyedvectors.Vocab at 0x7f56d0e69e50>,\n",
       " 'appeared': <gensim.models.keyedvectors.Vocab at 0x7f56d0e69e90>,\n",
       " 'filmed': <gensim.models.keyedvectors.Vocab at 0x7f56d0e69ed0>,\n",
       " 'location': <gensim.models.keyedvectors.Vocab at 0x7f56d0e69f10>,\n",
       " 'scenes': <gensim.models.keyedvectors.Vocab at 0x7f56d0e69f50>,\n",
       " 'clearly': <gensim.models.keyedvectors.Vocab at 0x7f56d0e69f90>,\n",
       " 'studio': <gensim.models.keyedvectors.Vocab at 0x7f56d0e69fd0>,\n",
       " 'rear': <gensim.models.keyedvectors.Vocab at 0x7f56d0e58050>,\n",
       " 'projected': <gensim.models.keyedvectors.Vocab at 0x7f56d0e58090>,\n",
       " 'grainy': <gensim.models.keyedvectors.Vocab at 0x7f56d0e580d0>,\n",
       " 'integrated': <gensim.models.keyedvectors.Vocab at 0x7f56d0e58110>,\n",
       " 'instance': <gensim.models.keyedvectors.Vocab at 0x7f56d0e58150>,\n",
       " 'sitting': <gensim.models.keyedvectors.Vocab at 0x7f56d0e58190>,\n",
       " 'grass': <gensim.models.keyedvectors.Vocab at 0x7f56d0e581d0>,\n",
       " 'bright': <gensim.models.keyedvectors.Vocab at 0x7f56d0e58210>,\n",
       " 'picture': <gensim.models.keyedvectors.Vocab at 0x7f56d0e58250>,\n",
       " 'cuts': <gensim.models.keyedvectors.Vocab at 0x7f56d0e58290>,\n",
       " 'dancing': <gensim.models.keyedvectors.Vocab at 0x7f56d0e582d0>,\n",
       " 'front': <gensim.models.keyedvectors.Vocab at 0x7f56d0e58310>,\n",
       " 'clear': <gensim.models.keyedvectors.Vocab at 0x7f56d0e58350>,\n",
       " 'giant': <gensim.models.keyedvectors.Vocab at 0x7f56d0e58390>,\n",
       " 'buddha': <gensim.models.keyedvectors.Vocab at 0x7f56d0e583d0>,\n",
       " 'advice': <gensim.models.keyedvectors.Vocab at 0x7f56d0e58410>,\n",
       " 'skip': <gensim.models.keyedvectors.Vocab at 0x7f56d0e58450>,\n",
       " 'keep': <gensim.models.keyedvectors.Vocab at 0x7f56d0e58490>,\n",
       " 'pot': <gensim.models.keyedvectors.Vocab at 0x7f56d0e584d0>,\n",
       " 'coffee': <gensim.models.keyedvectors.Vocab at 0x7f56d0e58510>,\n",
       " 'nearby': <gensim.models.keyedvectors.Vocab at 0x7f56d0e58550>,\n",
       " 'awake': <gensim.models.keyedvectors.Vocab at 0x7f56d0e58590>,\n",
       " 'very': <gensim.models.keyedvectors.Vocab at 0x7f56d0e585d0>,\n",
       " 'inspired': <gensim.models.keyedvectors.Vocab at 0x7f56d0e58610>,\n",
       " 'filmby': <gensim.models.keyedvectors.Vocab at 0x7f56d0e58650>,\n",
       " 'could': <gensim.models.keyedvectors.Vocab at 0x7f56d0e58690>,\n",
       " 'pregnant': <gensim.models.keyedvectors.Vocab at 0x7f56d0e586d0>,\n",
       " 'beginning': <gensim.models.keyedvectors.Vocab at 0x7f56d0e58710>,\n",
       " 'shes': <gensim.models.keyedvectors.Vocab at 0x7f56d0e58750>,\n",
       " 'wearing': <gensim.models.keyedvectors.Vocab at 0x7f56d0e58790>,\n",
       " 'clothes': <gensim.models.keyedvectors.Vocab at 0x7f56d0e587d0>,\n",
       " 'looks': <gensim.models.keyedvectors.Vocab at 0x7f56d0e58810>,\n",
       " 'puffy': <gensim.models.keyedvectors.Vocab at 0x7f56d0e58850>,\n",
       " 'look': <gensim.models.keyedvectors.Vocab at 0x7f56d0e58890>,\n",
       " 'carefully': <gensim.models.keyedvectors.Vocab at 0x7f56d0e588d0>,\n",
       " 'youll': <gensim.models.keyedvectors.Vocab at 0x7f56d0e58910>,\n",
       " 'basic': <gensim.models.keyedvectors.Vocab at 0x7f56d0e58950>,\n",
       " 'plot': <gensim.models.keyedvectors.Vocab at 0x7f56d0e58990>,\n",
       " 'ways': <gensim.models.keyedvectors.Vocab at 0x7f56d0e589d0>,\n",
       " 'similar': <gensim.models.keyedvectors.Vocab at 0x7f56d0e58a10>,\n",
       " 'indeed': <gensim.models.keyedvectors.Vocab at 0x7f56d0e58a50>,\n",
       " 'amazing': <gensim.models.keyedvectors.Vocab at 0x7f56d0e58a90>,\n",
       " 'direction': <gensim.models.keyedvectors.Vocab at 0x7f56d0e58ad0>,\n",
       " 'teen': <gensim.models.keyedvectors.Vocab at 0x7f56d0e58b10>,\n",
       " 'comedies': <gensim.models.keyedvectors.Vocab at 0x7f56d0e58b50>,\n",
       " 's': <gensim.models.keyedvectors.Vocab at 0x7f56d0e58b90>,\n",
       " 'girl': <gensim.models.keyedvectors.Vocab at 0x7f56d0e58bd0>,\n",
       " 'young': <gensim.models.keyedvectors.Vocab at 0x7f56d0e58c10>,\n",
       " 'nicolas': <gensim.models.keyedvectors.Vocab at 0x7f56d0e58c50>,\n",
       " 'cage': <gensim.models.keyedvectors.Vocab at 0x7f56d0e58c90>,\n",
       " 'starring': <gensim.models.keyedvectors.Vocab at 0x7f56d0e58cd0>,\n",
       " 'deborah': <gensim.models.keyedvectors.Vocab at 0x7f56d0e58d10>,\n",
       " 'foreman': <gensim.models.keyedvectors.Vocab at 0x7f56d0e58d50>,\n",
       " 'fun': <gensim.models.keyedvectors.Vocab at 0x7f56d0e58d90>,\n",
       " 'cages': <gensim.models.keyedvectors.Vocab at 0x7f56d0e58dd0>,\n",
       " 'desire': <gensim.models.keyedvectors.Vocab at 0x7f56d0e58e10>,\n",
       " 'whatever': <gensim.models.keyedvectors.Vocab at 0x7f56d0e58e50>,\n",
       " 'happened': <gensim.models.keyedvectors.Vocab at 0x7f56d0e58e90>,\n",
       " 'veteran': <gensim.models.keyedvectors.Vocab at 0x7f56d0e58ed0>,\n",
       " 'colleen': <gensim.models.keyedvectors.Vocab at 0x7f56d0e58f10>,\n",
       " 'frederic': <gensim.models.keyedvectors.Vocab at 0x7f56d0e58f50>,\n",
       " 'forrest': <gensim.models.keyedvectors.Vocab at 0x7f56d0e58f90>,\n",
       " 'julies': <gensim.models.keyedvectors.Vocab at 0x7f56d0e58fd0>,\n",
       " 'hippie': <gensim.models.keyedvectors.Vocab at 0x7f56d0e4b050>,\n",
       " 'parents': <gensim.models.keyedvectors.Vocab at 0x7f56d0e4b090>,\n",
       " 'john': <gensim.models.keyedvectors.Vocab at 0x7f56d0e4b0d0>,\n",
       " 'sayles': <gensim.models.keyedvectors.Vocab at 0x7f56d0e4b110>,\n",
       " 'moments': <gensim.models.keyedvectors.Vocab at 0x7f56d0e4b150>,\n",
       " 'hope': <gensim.models.keyedvectors.Vocab at 0x7f56d0e4b190>,\n",
       " 'welldrawn': <gensim.models.keyedvectors.Vocab at 0x7f56d0e4b1d0>,\n",
       " 'provoking': <gensim.models.keyedvectors.Vocab at 0x7f56d0e4b210>,\n",
       " 'quickly': <gensim.models.keyedvectors.Vocab at 0x7f56d0e4b250>,\n",
       " 'covered': <gensim.models.keyedvectors.Vocab at 0x7f56d0e4b290>,\n",
       " 'layers': <gensim.models.keyedvectors.Vocab at 0x7f56d0e4b2d0>,\n",
       " 'writing': <gensim.models.keyedvectors.Vocab at 0x7f56d0e4b310>,\n",
       " 'clumsy': <gensim.models.keyedvectors.Vocab at 0x7f56d0e4b350>,\n",
       " 'abysmal': <gensim.models.keyedvectors.Vocab at 0x7f56d0e4b390>,\n",
       " 'truly': <gensim.models.keyedvectors.Vocab at 0x7f56d0e4b3d0>,\n",
       " 'silver': <gensim.models.keyedvectors.Vocab at 0x7f56d0e4b410>,\n",
       " 'got': <gensim.models.keyedvectors.Vocab at 0x7f56d0e4b450>,\n",
       " 'feeling': <gensim.models.keyedvectors.Vocab at 0x7f56d0e4b490>,\n",
       " 'working': <gensim.models.keyedvectors.Vocab at 0x7f56d0e4b4d0>,\n",
       " 'beginnings': <gensim.models.keyedvectors.Vocab at 0x7f56d0e4b510>,\n",
       " 'involving': <gensim.models.keyedvectors.Vocab at 0x7f56d0e4b550>,\n",
       " 'illegal': <gensim.models.keyedvectors.Vocab at 0x7f56d0e4b590>,\n",
       " 'labor': <gensim.models.keyedvectors.Vocab at 0x7f56d0e4b5d0>,\n",
       " 'industrial': <gensim.models.keyedvectors.Vocab at 0x7f56d0e4b610>,\n",
       " 'corruption': <gensim.models.keyedvectors.Vocab at 0x7f56d0e4b650>,\n",
       " 'lines': <gensim.models.keyedvectors.Vocab at 0x7f56d0e4b690>,\n",
       " 'rushed': <gensim.models.keyedvectors.Vocab at 0x7f56d0e4b6d0>,\n",
       " 'stuck': <gensim.models.keyedvectors.Vocab at 0x7f56d0e4b710>,\n",
       " 'line': <gensim.models.keyedvectors.Vocab at 0x7f56d0e4b750>,\n",
       " 'satirizing': <gensim.models.keyedvectors.Vocab at 0x7f56d0e4b790>,\n",
       " 'bush': <gensim.models.keyedvectors.Vocab at 0x7f56d0e4b7d0>,\n",
       " 'administration': <gensim.models.keyedvectors.Vocab at 0x7f56d0e4b810>,\n",
       " 'onto': <gensim.models.keyedvectors.Vocab at 0x7f56d0e4b850>,\n",
       " 'stories': <gensim.models.keyedvectors.Vocab at 0x7f56d0e4b890>,\n",
       " 'connect': <gensim.models.keyedvectors.Vocab at 0x7f56d0e4b8d0>,\n",
       " 'weaker': <gensim.models.keyedvectors.Vocab at 0x7f56d0e4b910>,\n",
       " 'elements': <gensim.models.keyedvectors.Vocab at 0x7f56d0e4b950>,\n",
       " 'theme': <gensim.models.keyedvectors.Vocab at 0x7f56d0e4b990>,\n",
       " 'dominate': <gensim.models.keyedvectors.Vocab at 0x7f56d0e4b9d0>,\n",
       " 'causing': <gensim.models.keyedvectors.Vocab at 0x7f56d0e4ba10>,\n",
       " 'me': <gensim.models.keyedvectors.Vocab at 0x7f56d0e4ba50>,\n",
       " 'lose': <gensim.models.keyedvectors.Vocab at 0x7f56d0e4ba90>,\n",
       " 'patience': <gensim.models.keyedvectors.Vocab at 0x7f56d0e4bad0>,\n",
       " 'major': <gensim.models.keyedvectors.Vocab at 0x7f56d0e4bb10>,\n",
       " 'flaw': <gensim.models.keyedvectors.Vocab at 0x7f56d0e4bb50>,\n",
       " 'danny': <gensim.models.keyedvectors.Vocab at 0x7f56d0e4bb90>,\n",
       " 'hustons': <gensim.models.keyedvectors.Vocab at 0x7f56d0e4bbd0>,\n",
       " 'delivered': <gensim.models.keyedvectors.Vocab at 0x7f56d0e4bc10>,\n",
       " 'grin': <gensim.models.keyedvectors.Vocab at 0x7f56d0e4bc50>,\n",
       " 'regardless': <gensim.models.keyedvectors.Vocab at 0x7f56d0e4bc90>,\n",
       " 'mood': <gensim.models.keyedvectors.Vocab at 0x7f56d0e4bcd0>,\n",
       " 'hated': <gensim.models.keyedvectors.Vocab at 0x7f56d0e4bd10>,\n",
       " 'guy': <gensim.models.keyedvectors.Vocab at 0x7f56d0e4bd50>,\n",
       " 'reminded': <gensim.models.keyedvectors.Vocab at 0x7f56d0e4bd90>,\n",
       " 'bad': <gensim.models.keyedvectors.Vocab at 0x7f56d0e4bdd0>,\n",
       " 'actor': <gensim.models.keyedvectors.Vocab at 0x7f56d0e4be10>,\n",
       " 'high': <gensim.models.keyedvectors.Vocab at 0x7f56d0e4be50>,\n",
       " 'school': <gensim.models.keyedvectors.Vocab at 0x7f56d0e4be90>,\n",
       " 'play': <gensim.models.keyedvectors.Vocab at 0x7f56d0e4bed0>,\n",
       " 'ive': <gensim.models.keyedvectors.Vocab at 0x7f56d0e4bf10>,\n",
       " 'huston': <gensim.models.keyedvectors.Vocab at 0x7f56d0e4bf50>,\n",
       " 'whether': <gensim.models.keyedvectors.Vocab at 0x7f56d0e4bf90>,\n",
       " 'blame': <gensim.models.keyedvectors.Vocab at 0x7f56d0e4bfd0>,\n",
       " 'unfortunate': <gensim.models.keyedvectors.Vocab at 0x7f56d0e67050>,\n",
       " 'focal': <gensim.models.keyedvectors.Vocab at 0x7f56d0e67090>,\n",
       " 'final': <gensim.models.keyedvectors.Vocab at 0x7f56d0e670d0>,\n",
       " 'disappointed': <gensim.models.keyedvectors.Vocab at 0x7f56d0e67110>,\n",
       " 'heck': <gensim.models.keyedvectors.Vocab at 0x7f56d0e67150>,\n",
       " 'mediocre': <gensim.models.keyedvectors.Vocab at 0x7f56d0e67190>,\n",
       " 'any': <gensim.models.keyedvectors.Vocab at 0x7f56d0e671d0>,\n",
       " 'works': <gensim.models.keyedvectors.Vocab at 0x7f56d0e67210>,\n",
       " 'worth': <gensim.models.keyedvectors.Vocab at 0x7f56d0e67250>,\n",
       " 'rental': <gensim.models.keyedvectors.Vocab at 0x7f56d0e67290>,\n",
       " 'watching': <gensim.models.keyedvectors.Vocab at 0x7f56d0e672d0>,\n",
       " 'listening': <gensim.models.keyedvectors.Vocab at 0x7f56d0e67310>,\n",
       " 'commentary': <gensim.models.keyedvectors.Vocab at 0x7f56d0e67350>,\n",
       " 'michael': <gensim.models.keyedvectors.Vocab at 0x7f56d0e67390>,\n",
       " 'radford': <gensim.models.keyedvectors.Vocab at 0x7f56d0e673d0>,\n",
       " 'clue': <gensim.models.keyedvectors.Vocab at 0x7f56d0e67410>,\n",
       " 'fails': <gensim.models.keyedvectors.Vocab at 0x7f56d0e67450>,\n",
       " 'fully': <gensim.models.keyedvectors.Vocab at 0x7f56d0e67490>,\n",
       " 'grasp': <gensim.models.keyedvectors.Vocab at 0x7f56d0e674d0>,\n",
       " 'takes': <gensim.models.keyedvectors.Vocab at 0x7f56d0e67510>,\n",
       " 'pains': <gensim.models.keyedvectors.Vocab at 0x7f56d0e67550>,\n",
       " 'set': <gensim.models.keyedvectors.Vocab at 0x7f56d0e67590>,\n",
       " 'venice': <gensim.models.keyedvectors.Vocab at 0x7f56d0e675d0>,\n",
       " 'sounds': <gensim.models.keyedvectors.Vocab at 0x7f56d0e67610>,\n",
       " 'yes': <gensim.models.keyedvectors.Vocab at 0x7f56d0e67650>,\n",
       " 'misunderstanding': <gensim.models.keyedvectors.Vocab at 0x7f56d0e67690>,\n",
       " 'mean': <gensim.models.keyedvectors.Vocab at 0x7f56d0e676d0>,\n",
       " 'accurate': <gensim.models.keyedvectors.Vocab at 0x7f56d0e67710>,\n",
       " 'possible': <gensim.models.keyedvectors.Vocab at 0x7f56d0e67750>,\n",
       " 'anyone': <gensim.models.keyedvectors.Vocab at 0x7f56d0e67790>,\n",
       " 'whos': <gensim.models.keyedvectors.Vocab at 0x7f56d0e677d0>,\n",
       " 'studied': <gensim.models.keyedvectors.Vocab at 0x7f56d0e67810>,\n",
       " 'shakespeare': <gensim.models.keyedvectors.Vocab at 0x7f56d0e67850>,\n",
       " 'knows': <gensim.models.keyedvectors.Vocab at 0x7f56d0e67890>,\n",
       " 'while': <gensim.models.keyedvectors.Vocab at 0x7f56d0e678d0>,\n",
       " 'exotic': <gensim.models.keyedvectors.Vocab at 0x7f56d0e67910>,\n",
       " 'locals': <gensim.models.keyedvectors.Vocab at 0x7f56d0e67950>,\n",
       " 'culture': <gensim.models.keyedvectors.Vocab at 0x7f56d0e67990>,\n",
       " 'values': <gensim.models.keyedvectors.Vocab at 0x7f56d0e679d0>,\n",
       " 'always': <gensim.models.keyedvectors.Vocab at 0x7f56d0e67a10>,\n",
       " 'contemporary': <gensim.models.keyedvectors.Vocab at 0x7f56d0e67a50>,\n",
       " 'hurt': <gensim.models.keyedvectors.Vocab at 0x7f56d0e67a90>,\n",
       " 'displays': <gensim.models.keyedvectors.Vocab at 0x7f56d0e67ad0>,\n",
       " 'lack': <gensim.models.keyedvectors.Vocab at 0x7f56d0e67b10>,\n",
       " 'necessary': <gensim.models.keyedvectors.Vocab at 0x7f56d0e67b50>,\n",
       " 'kills': <gensim.models.keyedvectors.Vocab at 0x7f56d0e67b90>,\n",
       " 'dead': <gensim.models.keyedvectors.Vocab at 0x7f56d0e67bd0>,\n",
       " 'serious': <gensim.models.keyedvectors.Vocab at 0x7f56d0e67c10>,\n",
       " 'manages': <gensim.models.keyedvectors.Vocab at 0x7f56d0e67c50>,\n",
       " 'suck': <gensim.models.keyedvectors.Vocab at 0x7f56d0e67c90>,\n",
       " 'joke': <gensim.models.keyedvectors.Vocab at 0x7f56d0e67cd0>,\n",
       " 'leaving': <gensim.models.keyedvectors.Vocab at 0x7f56d0e67d10>,\n",
       " 'production': <gensim.models.keyedvectors.Vocab at 0x7f56d0e67d50>,\n",
       " 'ounce': <gensim.models.keyedvectors.Vocab at 0x7f56d0e67d90>,\n",
       " 'beaten': <gensim.models.keyedvectors.Vocab at 0x7f56d0e67dd0>,\n",
       " 'shylocks': <gensim.models.keyedvectors.Vocab at 0x7f56d0e67e10>,\n",
       " 'bleed': <gensim.models.keyedvectors.Vocab at 0x7f56d0e67e50>,\n",
       " 'speech': <gensim.models.keyedvectors.Vocab at 0x7f56d0e67e90>,\n",
       " 'mild': <gensim.models.keyedvectors.Vocab at 0x7f56d0e67ed0>,\n",
       " 'awkward': <gensim.models.keyedvectors.Vocab at 0x7f56d0e67f10>,\n",
       " 'ranting': <gensim.models.keyedvectors.Vocab at 0x7f56d0e67f50>,\n",
       " 'doing': <gensim.models.keyedvectors.Vocab at 0x7f56d0e67f90>,\n",
       " 'does': <gensim.models.keyedvectors.Vocab at 0x7f56d0e67fd0>,\n",
       " 'because': <gensim.models.keyedvectors.Vocab at 0x7f56d0e75050>,\n",
       " 'lovers': <gensim.models.keyedvectors.Vocab at 0x7f56d0e75090>,\n",
       " 'solemn': <gensim.models.keyedvectors.Vocab at 0x7f56d0e750d0>,\n",
       " 'far': <gensim.models.keyedvectors.Vocab at 0x7f56d0e75110>,\n",
       " 'restrained': <gensim.models.keyedvectors.Vocab at 0x7f56d0e75150>,\n",
       " 'fiennes': <gensim.models.keyedvectors.Vocab at 0x7f56d0e75190>,\n",
       " 'delivers': <gensim.models.keyedvectors.Vocab at 0x7f56d0e751d0>,\n",
       " 'romantic': <gensim.models.keyedvectors.Vocab at 0x7f56d0e75210>,\n",
       " 'year': <gensim.models.keyedvectors.Vocab at 0x7f56d0e75250>,\n",
       " 'barely': <gensim.models.keyedvectors.Vocab at 0x7f56d0e75290>,\n",
       " 'audible': <gensim.models.keyedvectors.Vocab at 0x7f56d0e752d0>,\n",
       " 'whisper': <gensim.models.keyedvectors.Vocab at 0x7f56d0e75310>,\n",
       " 'promise': <gensim.models.keyedvectors.Vocab at 0x7f56d0e75350>,\n",
       " 'behave': <gensim.models.keyedvectors.Vocab at 0x7f56d0e75390>,\n",
       " 'sober': <gensim.models.keyedvectors.Vocab at 0x7f56d0e753d0>,\n",
       " 'collected': <gensim.models.keyedvectors.Vocab at 0x7f56d0e75410>,\n",
       " 'makes': <gensim.models.keyedvectors.Vocab at 0x7f56d0e75450>,\n",
       " 'jessica': <gensim.models.keyedvectors.Vocab at 0x7f56d0e75490>,\n",
       " 'reluctant': <gensim.models.keyedvectors.Vocab at 0x7f56d0e754d0>,\n",
       " 'father': <gensim.models.keyedvectors.Vocab at 0x7f56d0e75510>,\n",
       " 'spends': <gensim.models.keyedvectors.Vocab at 0x7f56d0e75550>,\n",
       " 'lorenzo': <gensim.models.keyedvectors.Vocab at 0x7f56d0e75590>,\n",
       " 'bland': <gensim.models.keyedvectors.Vocab at 0x7f56d0e755d0>,\n",
       " 'watereddown': <gensim.models.keyedvectors.Vocab at 0x7f56d0e75610>,\n",
       " 'court': <gensim.models.keyedvectors.Vocab at 0x7f56d0e75650>,\n",
       " 'voices': <gensim.models.keyedvectors.Vocab at 0x7f56d0e75690>,\n",
       " 'shock': <gensim.models.keyedvectors.Vocab at 0x7f56d0e756d0>,\n",
       " 'audience': <gensim.models.keyedvectors.Vocab at 0x7f56d0e75710>,\n",
       " 'laughed': <gensim.models.keyedvectors.Vocab at 0x7f56d0e75750>,\n",
       " 'pound': <gensim.models.keyedvectors.Vocab at 0x7f56d0e75790>,\n",
       " 'flesh': <gensim.models.keyedvectors.Vocab at 0x7f56d0e757d0>,\n",
       " 'less': <gensim.models.keyedvectors.Vocab at 0x7f56d0e75810>,\n",
       " 'sentence': <gensim.models.keyedvectors.Vocab at 0x7f56d0e75850>,\n",
       " 'ultimately': <gensim.models.keyedvectors.Vocab at 0x7f56d0e75890>,\n",
       " 'concluding': <gensim.models.keyedvectors.Vocab at 0x7f56d0e758d0>,\n",
       " 'tension': <gensim.models.keyedvectors.Vocab at 0x7f56d0e75910>,\n",
       " 'release': <gensim.models.keyedvectors.Vocab at 0x7f56d0e75950>,\n",
       " 'laughter': <gensim.models.keyedvectors.Vocab at 0x7f56d0e75990>,\n",
       " 'merchant': <gensim.models.keyedvectors.Vocab at 0x7f56d0e759d0>,\n",
       " 'comedy': <gensim.models.keyedvectors.Vocab at 0x7f56d0e75a10>,\n",
       " 'absurd': <gensim.models.keyedvectors.Vocab at 0x7f56d0e75a50>,\n",
       " 'hysterical': <gensim.models.keyedvectors.Vocab at 0x7f56d0e75a90>,\n",
       " 'portions': <gensim.models.keyedvectors.Vocab at 0x7f56d0e75ad0>,\n",
       " 'daringly': <gensim.models.keyedvectors.Vocab at 0x7f56d0e75b10>,\n",
       " 'provocative': <gensim.models.keyedvectors.Vocab at 0x7f56d0e75b50>,\n",
       " 'dramathe': <gensim.models.keyedvectors.Vocab at 0x7f56d0e75b90>,\n",
       " 'intelligible': <gensim.models.keyedvectors.Vocab at 0x7f56d0e75bd0>,\n",
       " 'focus': <gensim.models.keyedvectors.Vocab at 0x7f56d0e75c10>,\n",
       " 'entertaining': <gensim.models.keyedvectors.Vocab at 0x7f56d0e75c50>,\n",
       " 'forced': <gensim.models.keyedvectors.Vocab at 0x7f56d0e75c90>,\n",
       " 'drama': <gensim.models.keyedvectors.Vocab at 0x7f56d0e75cd0>,\n",
       " 'sounding': <gensim.models.keyedvectors.Vocab at 0x7f56d0e75d10>,\n",
       " 'reading': <gensim.models.keyedvectors.Vocab at 0x7f56d0e75d50>,\n",
       " 'victorian': <gensim.models.keyedvectors.Vocab at 0x7f56d0e75d90>,\n",
       " 'poetry': <gensim.models.keyedvectors.Vocab at 0x7f56d0e75dd0>,\n",
       " 'comedic': <gensim.models.keyedvectors.Vocab at 0x7f56d0e75e10>,\n",
       " 'ending': <gensim.models.keyedvectors.Vocab at 0x7f56d0e75e50>,\n",
       " 'guys': <gensim.models.keyedvectors.Vocab at 0x7f56d0e75e90>,\n",
       " 'go': <gensim.models.keyedvectors.Vocab at 0x7f56d0e75ed0>,\n",
       " 'bed': <gensim.models.keyedvectors.Vocab at 0x7f56d0e75f10>,\n",
       " 'drowned': <gensim.models.keyedvectors.Vocab at 0x7f56d0e75f50>,\n",
       " 'dignified': <gensim.models.keyedvectors.Vocab at 0x7f56d0e75f90>,\n",
       " 'despair': <gensim.models.keyedvectors.Vocab at 0x7f56d0e75fd0>,\n",
       " 'feels': <gensim.models.keyedvectors.Vocab at 0x7f56d0e4d050>,\n",
       " 'finding': <gensim.models.keyedvectors.Vocab at 0x7f56d0e4d090>,\n",
       " 'stiff': <gensim.models.keyedvectors.Vocab at 0x7f56d0e4d0d0>,\n",
       " 'peace': <gensim.models.keyedvectors.Vocab at 0x7f56d0e4d110>,\n",
       " 'impending': <gensim.models.keyedvectors.Vocab at 0x7f56d0e4d150>,\n",
       " 'death': <gensim.models.keyedvectors.Vocab at 0x7f56d0e4d190>,\n",
       " 'rather': <gensim.models.keyedvectors.Vocab at 0x7f56d0e4d1d0>,\n",
       " 'antonio': <gensim.models.keyedvectors.Vocab at 0x7f56d0e4d210>,\n",
       " 'exit': <gensim.models.keyedvectors.Vocab at 0x7f56d0e4d250>,\n",
       " 'holding': <gensim.models.keyedvectors.Vocab at 0x7f56d0e4d290>,\n",
       " 'hats': <gensim.models.keyedvectors.Vocab at 0x7f56d0e4d2d0>,\n",
       " 'aristocratic': <gensim.models.keyedvectors.Vocab at 0x7f56d0e4d310>,\n",
       " 'poorly': <gensim.models.keyedvectors.Vocab at 0x7f56d0e4d350>,\n",
       " 'done': <gensim.models.keyedvectors.Vocab at 0x7f56d0e4d390>,\n",
       " 'creative': <gensim.models.keyedvectors.Vocab at 0x7f56d0e4d3d0>,\n",
       " 'powers': <gensim.models.keyedvectors.Vocab at 0x7f56d0e4d410>,\n",
       " 'stern': <gensim.models.keyedvectors.Vocab at 0x7f56d0e4d450>,\n",
       " 'should': <gensim.models.keyedvectors.Vocab at 0x7f56d0e4d490>,\n",
       " 'reserved': <gensim.models.keyedvectors.Vocab at 0x7f56d0e4d4d0>,\n",
       " 'passionate': <gensim.models.keyedvectors.Vocab at 0x7f56d0e4d510>,\n",
       " 'william': <gensim.models.keyedvectors.Vocab at 0x7f56d0e4d550>,\n",
       " 'mercy': <gensim.models.keyedvectors.Vocab at 0x7f56d0e4d590>,\n",
       " 'somewhat': <gensim.models.keyedvectors.Vocab at 0x7f56d0e4d5d0>,\n",
       " 'ellen': <gensim.models.keyedvectors.Vocab at 0x7f56d0e4d610>,\n",
       " 'barkin': <gensim.models.keyedvectors.Vocab at 0x7f56d0e4d650>,\n",
       " 'give': <gensim.models.keyedvectors.Vocab at 0x7f56d0e4d690>,\n",
       " 'performance': <gensim.models.keyedvectors.Vocab at 0x7f56d0e4d6d0>,\n",
       " 'read': <gensim.models.keyedvectors.Vocab at 0x7f56d0e4d710>,\n",
       " 'book': <gensim.models.keyedvectors.Vocab at 0x7f56d0e4d750>,\n",
       " 'cared': <gensim.models.keyedvectors.Vocab at 0x7f56d0e4d790>,\n",
       " 'brink': <gensim.models.keyedvectors.Vocab at 0x7f56d0e4d7d0>,\n",
       " 'ends': <gensim.models.keyedvectors.Vocab at 0x7f56d0e4d810>,\n",
       " 'failing': <gensim.models.keyedvectors.Vocab at 0x7f56d0e4d850>,\n",
       " 'solid': <gensim.models.keyedvectors.Vocab at 0x7f56d0e4d890>,\n",
       " 'randolph': <gensim.models.keyedvectors.Vocab at 0x7f56d0e4d8d0>,\n",
       " 'scott': <gensim.models.keyedvectors.Vocab at 0x7f56d0e4d910>,\n",
       " 'bat': <gensim.models.keyedvectors.Vocab at 0x7f56d0e4d950>,\n",
       " 'masterson': <gensim.models.keyedvectors.Vocab at 0x7f56d0e4d990>,\n",
       " 'liberal': <gensim.models.keyedvectors.Vocab at 0x7f56d0e4d9d0>,\n",
       " 'kansas': <gensim.models.keyedvectors.Vocab at 0x7f56d0e4da10>,\n",
       " 'clean': <gensim.models.keyedvectors.Vocab at 0x7f56d0e4da50>,\n",
       " 'town': <gensim.models.keyedvectors.Vocab at 0x7f56d0e4da90>,\n",
       " 'becomes': <gensim.models.keyedvectors.Vocab at 0x7f56d0e4dad0>,\n",
       " 'friends': <gensim.models.keyedvectors.Vocab at 0x7f56d0e4db10>,\n",
       " 'ryan': <gensim.models.keyedvectors.Vocab at 0x7f56d0e4db50>,\n",
       " 'played': <gensim.models.keyedvectors.Vocab at 0x7f56d0e4db90>,\n",
       " 'straight': <gensim.models.keyedvectors.Vocab at 0x7f56d0e4dbd0>,\n",
       " 'leading': <gensim.models.keyedvectors.Vocab at 0x7f56d0e4dc10>,\n",
       " 'after': <gensim.models.keyedvectors.Vocab at 0x7f56d0e4dc50>,\n",
       " 'began': <gensim.models.keyedvectors.Vocab at 0x7f56d0e4dc90>,\n",
       " 'playing': <gensim.models.keyedvectors.Vocab at 0x7f56d0e4dcd0>,\n",
       " 'darker': <gensim.models.keyedvectors.Vocab at 0x7f56d0e4dd10>,\n",
       " 'roles': <gensim.models.keyedvectors.Vocab at 0x7f56d0e4dd50>,\n",
       " 'retired': <gensim.models.keyedvectors.Vocab at 0x7f56d0e4dd90>,\n",
       " 'pacing': <gensim.models.keyedvectors.Vocab at 0x7f56d0e4ddd0>,\n",
       " 'builds': <gensim.models.keyedvectors.Vocab at 0x7f56d0e4de10>,\n",
       " 'climax': <gensim.models.keyedvectors.Vocab at 0x7f56d0e4de50>,\n",
       " 'steadily': <gensim.models.keyedvectors.Vocab at 0x7f56d0e4de90>,\n",
       " 'huge': <gensim.models.keyedvectors.Vocab at 0x7f56d0e4ded0>,\n",
       " 'fan': <gensim.models.keyedvectors.Vocab at 0x7f56d0e4df10>,\n",
       " 'avoided': <gensim.models.keyedvectors.Vocab at 0x7f56d0e4df50>,\n",
       " 'plague': <gensim.models.keyedvectors.Vocab at 0x7f56d0e4df90>,\n",
       " 'reviews': <gensim.models.keyedvectors.Vocab at 0x7f56d0e4dfd0>,\n",
       " 'started': <gensim.models.keyedvectors.Vocab at 0x7f56d0e66050>,\n",
       " 'coming': <gensim.models.keyedvectors.Vocab at 0x7f56d0e66090>,\n",
       " 'eight': <gensim.models.keyedvectors.Vocab at 0x7f56d0e660d0>,\n",
       " 'ago': <gensim.models.keyedvectors.Vocab at 0x7f56d0e66110>,\n",
       " 'finished': <gensim.models.keyedvectors.Vocab at 0x7f56d0e66150>,\n",
       " 'pleasant': <gensim.models.keyedvectors.Vocab at 0x7f56d0e66190>,\n",
       " 'looking': <gensim.models.keyedvectors.Vocab at 0x7f56d0e661d0>,\n",
       " 'retread': <gensim.models.keyedvectors.Vocab at 0x7f56d0e66210>,\n",
       " 'youre': <gensim.models.keyedvectors.Vocab at 0x7f56d0e66250>,\n",
       " 'big': <gensim.models.keyedvectors.Vocab at 0x7f56d0e66290>,\n",
       " 'disappointment': <gensim.models.keyedvectors.Vocab at 0x7f56d0e662d0>,\n",
       " 'bit': <gensim.models.keyedvectors.Vocab at 0x7f56d0e66310>,\n",
       " 'edgy': <gensim.models.keyedvectors.Vocab at 0x7f56d0e66350>,\n",
       " 'gregory': <gensim.models.keyedvectors.Vocab at 0x7f56d0e66390>,\n",
       " 'now': <gensim.models.keyedvectors.Vocab at 0x7f56d0e663d0>,\n",
       " 'thirty': <gensim.models.keyedvectors.Vocab at 0x7f56d0e66410>,\n",
       " 'teacher': <gensim.models.keyedvectors.Vocab at 0x7f56d0e66450>,\n",
       " 'old': <gensim.models.keyedvectors.Vocab at 0x7f56d0e66490>,\n",
       " 'comprehensive': <gensim.models.keyedvectors.Vocab at 0x7f56d0e664d0>,\n",
       " 'being': <gensim.models.keyedvectors.Vocab at 0x7f56d0e66510>,\n",
       " 'pursued': <gensim.models.keyedvectors.Vocab at 0x7f56d0e66550>,\n",
       " 'fellow': <gensim.models.keyedvectors.Vocab at 0x7f56d0e66590>,\n",
       " 'sexual': <gensim.models.keyedvectors.Vocab at 0x7f56d0e665d0>,\n",
       " 'students': <gensim.models.keyedvectors.Vocab at 0x7f56d0e66610>,\n",
       " 'student': <gensim.models.keyedvectors.Vocab at 0x7f56d0e66650>,\n",
       " 'insists': <gensim.models.keyedvectors.Vocab at 0x7f56d0e66690>,\n",
       " 'series': <gensim.models.keyedvectors.Vocab at 0x7f56d0e666d0>,\n",
       " 'misadventures': <gensim.models.keyedvectors.Vocab at 0x7f56d0e66710>,\n",
       " 'ensue': <gensim.models.keyedvectors.Vocab at 0x7f56d0e66750>,\n",
       " 'include': <gensim.models.keyedvectors.Vocab at 0x7f56d0e66790>,\n",
       " 'torture': <gensim.models.keyedvectors.Vocab at 0x7f56d0e667d0>,\n",
       " 'breaking': <gensim.models.keyedvectors.Vocab at 0x7f56d0e66810>,\n",
       " 'entering': <gensim.models.keyedvectors.Vocab at 0x7f56d0e66850>,\n",
       " 'manner': <gensim.models.keyedvectors.Vocab at 0x7f56d0e66890>,\n",
       " 'unexpected': <gensim.models.keyedvectors.Vocab at 0x7f56d0e668d0>,\n",
       " 'twists': <gensim.models.keyedvectors.Vocab at 0x7f56d0e66910>,\n",
       " 'turns': <gensim.models.keyedvectors.Vocab at 0x7f56d0e66950>,\n",
       " 'left': <gensim.models.keyedvectors.Vocab at 0x7f56d0e66990>,\n",
       " 'highly': <gensim.models.keyedvectors.Vocab at 0x7f56d0e669d0>,\n",
       " 'recommend': <gensim.models.keyedvectors.Vocab at 0x7f56d0e66a10>,\n",
       " 'wish': <gensim.models.keyedvectors.Vocab at 0x7f56d0e66a50>,\n",
       " 'gone': <gensim.models.keyedvectors.Vocab at 0x7f56d0e66a90>,\n",
       " 'documentary': <gensim.models.keyedvectors.Vocab at 0x7f56d0e66ad0>,\n",
       " 'based': <gensim.models.keyedvectors.Vocab at 0x7f56d0e66b10>,\n",
       " 'incomplete': <gensim.models.keyedvectors.Vocab at 0x7f56d0e66b50>,\n",
       " 'considerations': <gensim.models.keyedvectors.Vocab at 0x7f56d0e66b90>,\n",
       " 'evidence': <gensim.models.keyedvectors.Vocab at 0x7f56d0e66bd0>,\n",
       " 'brian': <gensim.models.keyedvectors.Vocab at 0x7f56d0e66c10>,\n",
       " 'flemming': <gensim.models.keyedvectors.Vocab at 0x7f56d0e66c50>,\n",
       " 'purposely': <gensim.models.keyedvectors.Vocab at 0x7f56d0e66c90>,\n",
       " 'mention': <gensim.models.keyedvectors.Vocab at 0x7f56d0e66cd0>,\n",
       " 'important': <gensim.models.keyedvectors.Vocab at 0x7f56d0e66d10>,\n",
       " 'contrary': <gensim.models.keyedvectors.Vocab at 0x7f56d0e66d50>,\n",
       " 'crucial': <gensim.models.keyedvectors.Vocab at 0x7f56d0e66d90>,\n",
       " 'earliest': <gensim.models.keyedvectors.Vocab at 0x7f56d0e66dd0>,\n",
       " 'claims': <gensim.models.keyedvectors.Vocab at 0x7f56d0e66e10>,\n",
       " 'concerning': <gensim.models.keyedvectors.Vocab at 0x7f56d0e66e50>,\n",
       " 'pauls': <gensim.models.keyedvectors.Vocab at 0x7f56d0e66e90>,\n",
       " 'testimony': <gensim.models.keyedvectors.Vocab at 0x7f56d0e66ed0>,\n",
       " 'jesus': <gensim.models.keyedvectors.Vocab at 0x7f56d0e66f10>,\n",
       " 'christ': <gensim.models.keyedvectors.Vocab at 0x7f56d0e66f50>,\n",
       " 'disregard': <gensim.models.keyedvectors.Vocab at 0x7f56d0e66f90>,\n",
       " 'key': <gensim.models.keyedvectors.Vocab at 0x7f56d0e66fd0>,\n",
       " ...}"
      ]
     },
     "execution_count": 178,
     "metadata": {},
     "output_type": "execute_result"
    }
   ],
   "source": [
    "model.wv.vocab"
   ]
  },
  {
   "cell_type": "code",
   "execution_count": 179,
   "metadata": {},
   "outputs": [
    {
     "data": {
      "text/plain": [
       "array([ 2.8986027e-03,  2.1082121e-03,  1.5148193e-04,  4.3296888e-05,\n",
       "       -4.4184043e-03,  2.5216320e-03, -3.4976865e-03,  3.3197973e-03,\n",
       "        1.7647870e-03, -2.5020444e-03,  1.6759604e-04, -1.3123845e-03,\n",
       "        4.4903485e-03,  4.4367020e-03, -1.9141821e-03, -7.3217860e-05,\n",
       "       -1.6462028e-03,  1.9160608e-03, -4.6922485e-03,  1.3362458e-03,\n",
       "        2.9599946e-03, -2.7373347e-03,  8.3163375e-04,  1.4450579e-03,\n",
       "        2.3328813e-03, -3.8155417e-03,  1.0429492e-03,  3.7059062e-03,\n",
       "        4.0055062e-03,  3.3480306e-03, -2.7161042e-05, -2.9049374e-03,\n",
       "        2.9182704e-03,  4.8301592e-03,  1.0484622e-03,  4.2339563e-03,\n",
       "       -2.1314891e-03, -3.2422424e-04, -6.4992043e-04, -7.6996896e-04,\n",
       "        1.1759076e-03, -4.7687874e-03,  2.2611857e-04,  9.0573571e-04,\n",
       "        1.7827615e-03, -1.8495582e-04,  4.2204293e-03,  1.2676386e-03,\n",
       "       -1.9660299e-03, -3.8083522e-03, -3.3759198e-03, -8.9462024e-05,\n",
       "       -4.6300194e-03,  8.8255137e-04,  1.8778564e-03, -1.9070068e-03,\n",
       "       -1.9753545e-03, -4.4366191e-03,  3.9447658e-03, -2.0810270e-03,\n",
       "        2.6570063e-03, -3.5511446e-03, -1.7725498e-03,  4.9591209e-03,\n",
       "       -3.8216857e-03,  6.9380907e-04,  4.1466793e-03,  3.5243344e-03,\n",
       "       -4.7728531e-03,  1.0268772e-04,  7.0137641e-04, -2.1850071e-03,\n",
       "       -1.5396168e-03, -2.8088365e-03,  1.2173156e-03,  1.3919768e-03,\n",
       "        3.4278685e-03,  2.9762269e-03,  4.0375054e-04,  7.9417526e-04,\n",
       "        4.3344637e-03, -7.0079271e-04, -4.8938817e-03, -4.3058975e-05,\n",
       "       -1.1585223e-03, -2.0008236e-03, -7.7870709e-04, -1.3506132e-03,\n",
       "        4.3264409e-03,  4.0723852e-04, -4.5020483e-03, -1.0878200e-03,\n",
       "       -4.9736379e-03, -3.1559386e-03, -4.4678249e-03, -2.6430376e-03,\n",
       "        3.8305328e-03, -2.2238579e-03, -9.5747813e-04, -1.2737239e-03],\n",
       "      dtype=float32)"
      ]
     },
     "execution_count": 179,
     "metadata": {},
     "output_type": "execute_result"
    }
   ],
   "source": [
    "# verify that the vectors were generated\n",
    "model.wv['magic']"
   ]
  },
  {
   "cell_type": "code",
   "execution_count": 180,
   "metadata": {},
   "outputs": [],
   "source": [
    "# 3. represent the corpus using the word embeddings\n",
    "def docs2embs(model,docs):\n",
    "    \"\"\" function to a list of documents into their word embeddings \n",
    "        representation; each document is a list of vectors\n",
    "    \"\"\"\n",
    "    # empty list to store the results\n",
    "    docs_emb = []\n",
    "    \n",
    "    # keep a counter on the number of words that where note embedded\n",
    "    not_embedded = 0\n",
    "    all_words = 0\n",
    "    for idx,doc in enumerate(docs):\n",
    "        # create empty lists to represent each document in the corpus\n",
    "        docs_emb.append([])\n",
    "        for word in doc:\n",
    "            try:\n",
    "                docs_emb[idx].append(model.wv[word])\n",
    "                all_words +=1\n",
    "            except:\n",
    "                not_embedded +=1\n",
    "                all_words +=1\n",
    "    \n",
    "    print(\"Warning: \", not_embedded, \" out of \", all_words , \" could not be embedded\")\n",
    "    \n",
    "    return(docs_emb)"
   ]
  },
  {
   "cell_type": "code",
   "execution_count": 181,
   "metadata": {},
   "outputs": [
    {
     "name": "stdout",
     "output_type": "stream",
     "text": [
      "Warning:  152415  out of  5617513  could not be embedded\n"
     ]
    }
   ],
   "source": [
    "docs_emb = docs2embs(model,clean_docs)"
   ]
  },
  {
   "cell_type": "code",
   "execution_count": 182,
   "metadata": {},
   "outputs": [
    {
     "data": {
      "text/plain": [
       "(25002, 25002)"
      ]
     },
     "execution_count": 182,
     "metadata": {},
     "output_type": "execute_result"
    }
   ],
   "source": [
    "# check lengths\n",
    "len(docs_emb), len(movies)"
   ]
  },
  {
   "cell_type": "code",
   "execution_count": 183,
   "metadata": {},
   "outputs": [],
   "source": [
    "# 4. use the word embeddings to generate a representation of the document\n",
    "def doc_embedding_sum(docs_emb):\n",
    "    \"\"\" function to transform a list of documents represented by their\n",
    "        word embeddings into an aggregate representation of each document\n",
    "        obtained by summing the word embedings and normalizing\n",
    "    \"\"\"\n",
    "    \n",
    "    # empty list to store results\n",
    "    docs_agg = []\n",
    "    \n",
    "    for doc in docs_emb:\n",
    "        # sum all elements from the same dimension for all words\n",
    "        agg_emb = np.sum(doc, axis = 0)\n",
    "        # normalize\n",
    "        agg_emb_norm = agg_emb/np.linalg.norm(agg_emb) \n",
    "        docs_agg.append(agg_emb_norm)\n",
    "\n",
    "    \n",
    "    return(docs_agg)"
   ]
  },
  {
   "cell_type": "code",
   "execution_count": 184,
   "metadata": {},
   "outputs": [],
   "source": [
    "docs_final = doc_embedding_sum(docs_emb)"
   ]
  },
  {
   "cell_type": "code",
   "execution_count": 185,
   "metadata": {},
   "outputs": [],
   "source": [
    "# 5. test performance!\n",
    "def test_ratio2(docs, target, model, test_size):\n",
    "    \"\"\" function to test the accuracy of a model by performing\n",
    "        a train/test split\n",
    "    \"\"\"\n",
    "    \n",
    "    # split the data into train and test\n",
    "    X_train, X_test, y_train, y_test = train_test_split(docs, \n",
    "                                                        target, \n",
    "                                                        test_size= test_size)\n",
    "    \n",
    "    # fit the logistic regression\n",
    "    fitted_model = model.fit(X_train, y_train)\n",
    "    \n",
    "    # use the fitted model for prediction\n",
    "    y_pred = model.predict(X_test)\n",
    "    \n",
    "    return(accuracy_score(y_pred, y_test))"
   ]
  },
  {
   "cell_type": "code",
   "execution_count": 186,
   "metadata": {},
   "outputs": [
    {
     "name": "stdout",
     "output_type": "stream",
     "text": [
      "\n",
      "***** Testing ratio:  0.5\n",
      "\n",
      "***** Testing ratio:  0.55\n",
      "\n",
      "***** Testing ratio:  0.6\n",
      "\n",
      "***** Testing ratio:  0.65\n",
      "\n",
      "***** Testing ratio:  0.7\n",
      "\n",
      "***** Testing ratio:  0.75\n",
      "\n",
      "***** Testing ratio:  0.8\n",
      "\n",
      "***** Testing ratio:  0.85\n",
      "\n",
      "***** Testing ratio:  0.9\n",
      "\n",
      "***** Testing ratio:  0.95\n",
      "\n",
      "***** Testing ratio:  0.975\n",
      "\n",
      "***** Testing ratio:  0.99\n"
     ]
    }
   ],
   "source": [
    "# define the classification model\n",
    "LR = LogisticRegression(solver='lbfgs', n_jobs = -1)\n",
    "\n",
    "# several ratios between test/train \n",
    "ratios = [r/100 for r in list(range(50,99,5))]\n",
    "ratios.extend([0.975, 0.99])\n",
    "\n",
    "accuracies = []\n",
    "for ratio in ratios:\n",
    "    print(\"\\n***** Testing ratio: \", ratio)\n",
    "    accuracies.append(test_ratio2(docs_final, movies.positive, LR, ratio))"
   ]
  },
  {
   "cell_type": "code",
   "execution_count": 187,
   "metadata": {},
   "outputs": [],
   "source": [
    "results['word2vec_1'] = accuracies"
   ]
  },
  {
   "cell_type": "code",
   "execution_count": 233,
   "metadata": {},
   "outputs": [
    {
     "data": {
      "image/png": "[encoded data removed]",
      "text/plain": [
       "<Figure size 432x288 with 1 Axes>"
      ]
     },
     "metadata": {
      "needs_background": "light"
     },
     "output_type": "display_data"
    }
   ],
   "source": [
    "ratios = [r*100 for r in ratios]\n",
    "plt.plot(ratios, results['TF'], label='Term Frequency')\n",
    "plt.plot(ratios, results['word2vec_1'], label='Word2Vec 1')\n",
    "plt.ylabel('Test accuracy')\n",
    "plt.xlabel('Percentage of data for testing')\n",
    "plt.legend()\n",
    "plt.show()"
   ]
  },
  {
   "cell_type": "markdown",
   "metadata": {},
   "source": [
    "### 2.2. Second Word2Vec - Bag of Words\n",
    "\n",
    "- Embeddings size = 100\n",
    "- Window size = 5\n",
    "- BOW\n",
    "- K-Negative = 5"
   ]
  },
  {
   "cell_type": "code",
   "execution_count": 189,
   "metadata": {},
   "outputs": [],
   "source": [
    "model2 = gensim.models.Word2Vec(size=100, \n",
    "                               alpha=0.025, \n",
    "                               window=5, \n",
    "                               min_count=5, \n",
    "                               sample=0.001, \n",
    "                               workers=-1, \n",
    "                               min_alpha=0.0001, \n",
    "                               sg=0, # Training algorithm: 1 for skip-gram; otherwise CBOW\n",
    "                               hs=0, # If 1, hierarchical softmax will be used for model training. If 0, and negative is non-zero, negative sampling will be used.\n",
    "                               negative=5, # K-negative\n",
    "                               ns_exponent=0.75,\n",
    "                               cbow_mean=1, \n",
    "                               iter=5, \n",
    "                               null_word=0, \n",
    "                               trim_rule=None, \n",
    "                               sorted_vocab=1, \n",
    "                               batch_words=10000, \n",
    "                               compute_loss=False, \n",
    "                               callbacks=(), \n",
    "                               max_final_vocab=None)"
   ]
  },
  {
   "cell_type": "code",
   "execution_count": 190,
   "metadata": {},
   "outputs": [],
   "source": [
    "# 1. build the vocabulary\n",
    "model2.build_vocab(clean_docs)"
   ]
  },
  {
   "cell_type": "code",
   "execution_count": 191,
   "metadata": {},
   "outputs": [
    {
     "data": {
      "text/plain": [
       "(0, 0)"
      ]
     },
     "execution_count": 191,
     "metadata": {},
     "output_type": "execute_result"
    }
   ],
   "source": [
    "# 2. train the model\n",
    "model2.train(clean_docs,\n",
    "            total_examples=model2.corpus_count,\n",
    "            epochs=100)"
   ]
  },
  {
   "cell_type": "code",
   "execution_count": 192,
   "metadata": {},
   "outputs": [
    {
     "name": "stdout",
     "output_type": "stream",
     "text": [
      "Warning:  152415  out of  5617513  could not be embedded\n"
     ]
    }
   ],
   "source": [
    "# 3. represent the corpus using the word embeddings\n",
    "docs_emb = docs2embs(model2,clean_docs)"
   ]
  },
  {
   "cell_type": "code",
   "execution_count": 193,
   "metadata": {},
   "outputs": [],
   "source": [
    "# 4. use the word embeddings to generate a representation of the document\n",
    "docs_final = doc_embedding_sum(docs_emb)"
   ]
  },
  {
   "cell_type": "code",
   "execution_count": 194,
   "metadata": {},
   "outputs": [
    {
     "name": "stdout",
     "output_type": "stream",
     "text": [
      "\n",
      "***** Testing ratio:  0.5\n",
      "\n",
      "***** Testing ratio:  0.55\n",
      "\n",
      "***** Testing ratio:  0.6\n",
      "\n",
      "***** Testing ratio:  0.65\n",
      "\n",
      "***** Testing ratio:  0.7\n",
      "\n",
      "***** Testing ratio:  0.75\n",
      "\n",
      "***** Testing ratio:  0.8\n",
      "\n",
      "***** Testing ratio:  0.85\n",
      "\n",
      "***** Testing ratio:  0.9\n",
      "\n",
      "***** Testing ratio:  0.95\n",
      "\n",
      "***** Testing ratio:  0.975\n",
      "\n",
      "***** Testing ratio:  0.99\n"
     ]
    }
   ],
   "source": [
    "# 5. test performance!\n",
    "LR = LogisticRegression(solver='lbfgs', n_jobs = -1)\n",
    "\n",
    "ratios = [r/100 for r in list(range(50,99,5))]\n",
    "ratios.extend([0.975, 0.99])\n",
    "\n",
    "accuracies = []\n",
    "for ratio in ratios:\n",
    "    print(\"\\n***** Testing ratio: \", ratio)\n",
    "    accuracies.append(test_ratio2(docs_final, movies.positive, LR, ratio))"
   ]
  },
  {
   "cell_type": "code",
   "execution_count": 195,
   "metadata": {},
   "outputs": [],
   "source": [
    "results['word2vec_2'] = accuracies"
   ]
  },
  {
   "cell_type": "code",
   "execution_count": 234,
   "metadata": {},
   "outputs": [
    {
     "data": {
      "image/png": "[encoded data removed]",
      "text/plain": [
       "<Figure size 432x288 with 1 Axes>"
      ]
     },
     "metadata": {
      "needs_background": "light"
     },
     "output_type": "display_data"
    }
   ],
   "source": [
    "ratios = [r*100 for r in ratios]\n",
    "plt.plot(ratios, results['TF'], label='Term Frequency')\n",
    "plt.plot(ratios, results['word2vec_1'], label='Word2Vec 1')\n",
    "plt.plot(ratios, results['word2vec_2'], label='Word2Vec 2')\n",
    "plt.ylabel('Test accuracy')\n",
    "plt.xlabel('Percentage of data for testing')\n",
    "plt.legend()\n",
    "plt.show()"
   ]
  },
  {
   "cell_type": "markdown",
   "metadata": {},
   "source": [
    "### 2.3. Third Word2Vec \n",
    "\n",
    "- Embeddings size = 100\n",
    "- Window size = 20\n",
    "- BOW\n",
    "- K-Negative = 5"
   ]
  },
  {
   "cell_type": "code",
   "execution_count": 197,
   "metadata": {},
   "outputs": [],
   "source": [
    "model3 = gensim.models.Word2Vec(size=100, \n",
    "                               alpha=0.025, \n",
    "                               window=20, \n",
    "                               min_count=5, \n",
    "                               sample=0.001, \n",
    "                               workers=-1, \n",
    "                               min_alpha=0.0001, \n",
    "                               sg=0, # Training algorithm: 1 for skip-gram; otherwise CBOW\n",
    "                               hs=0, # If 1, hierarchical softmax will be used for model training. If 0, and negative is non-zero, negative sampling will be used.\n",
    "                               negative=5, # K-negative\n",
    "                               ns_exponent=0.75,\n",
    "                               cbow_mean=1, \n",
    "                               iter=5, \n",
    "                               null_word=0, \n",
    "                               trim_rule=None, \n",
    "                               sorted_vocab=1, \n",
    "                               batch_words=10000, \n",
    "                               compute_loss=False, \n",
    "                               callbacks=(), \n",
    "                               max_final_vocab=None)"
   ]
  },
  {
   "cell_type": "code",
   "execution_count": 198,
   "metadata": {},
   "outputs": [],
   "source": [
    "# 1. build the vocabulary\n",
    "model3.build_vocab(clean_docs)"
   ]
  },
  {
   "cell_type": "code",
   "execution_count": 199,
   "metadata": {},
   "outputs": [
    {
     "data": {
      "text/plain": [
       "(0, 0)"
      ]
     },
     "execution_count": 199,
     "metadata": {},
     "output_type": "execute_result"
    }
   ],
   "source": [
    "# 2. train the model\n",
    "model3.train(clean_docs,\n",
    "            total_examples=model3.corpus_count,\n",
    "            epochs=100)"
   ]
  },
  {
   "cell_type": "code",
   "execution_count": 200,
   "metadata": {},
   "outputs": [
    {
     "name": "stdout",
     "output_type": "stream",
     "text": [
      "Warning:  152415  out of  5617513  could not be embedded\n"
     ]
    }
   ],
   "source": [
    "# 3. represent the corpus using the word embeddings\n",
    "docs_emb = docs2embs(model3,clean_docs)"
   ]
  },
  {
   "cell_type": "code",
   "execution_count": 201,
   "metadata": {},
   "outputs": [],
   "source": [
    "# 4. use the word embeddings to generate a representation of the document\n",
    "docs_final = doc_embedding_sum(docs_emb)"
   ]
  },
  {
   "cell_type": "code",
   "execution_count": 202,
   "metadata": {},
   "outputs": [
    {
     "name": "stdout",
     "output_type": "stream",
     "text": [
      "\n",
      "***** Testing ratio:  0.5\n",
      "\n",
      "***** Testing ratio:  0.55\n",
      "\n",
      "***** Testing ratio:  0.6\n",
      "\n",
      "***** Testing ratio:  0.65\n",
      "\n",
      "***** Testing ratio:  0.7\n",
      "\n",
      "***** Testing ratio:  0.75\n",
      "\n",
      "***** Testing ratio:  0.8\n",
      "\n",
      "***** Testing ratio:  0.85\n",
      "\n",
      "***** Testing ratio:  0.9\n",
      "\n",
      "***** Testing ratio:  0.95\n",
      "\n",
      "***** Testing ratio:  0.975\n",
      "\n",
      "***** Testing ratio:  0.99\n"
     ]
    }
   ],
   "source": [
    "# 5. test performance!\n",
    "LR = LogisticRegression(solver='lbfgs', n_jobs = -1)\n",
    "\n",
    "ratios = [r/100 for r in list(range(50,99,5))]\n",
    "ratios.extend([0.975, 0.99])\n",
    "\n",
    "accuracies = []\n",
    "for ratio in ratios:\n",
    "    print(\"\\n***** Testing ratio: \", ratio)\n",
    "    accuracies.append(test_ratio2(docs_final, movies.positive, LR, ratio))"
   ]
  },
  {
   "cell_type": "code",
   "execution_count": 203,
   "metadata": {},
   "outputs": [],
   "source": [
    "results['word2vec_3'] = accuracies"
   ]
  },
  {
   "cell_type": "code",
   "execution_count": 235,
   "metadata": {},
   "outputs": [
    {
     "data": {
      "image/png": "[encoded data removed]",
      "text/plain": [
       "<Figure size 432x288 with 1 Axes>"
      ]
     },
     "metadata": {
      "needs_background": "light"
     },
     "output_type": "display_data"
    }
   ],
   "source": [
    "ratios = [r*100 for r in ratios]\n",
    "plt.plot(ratios, results['TF'], label='Term Frequency')\n",
    "plt.plot(ratios, results['word2vec_1'], label='Word2Vec 1')\n",
    "plt.plot(ratios, results['word2vec_2'], label='Word2Vec 2')\n",
    "plt.plot(ratios, results['word2vec_3'], label='Word2Vec 3')\n",
    "plt.ylabel('Test accuracy')\n",
    "plt.xlabel('Percentage of data for testing')\n",
    "plt.legend()\n",
    "plt.show()"
   ]
  },
  {
   "cell_type": "markdown",
   "metadata": {},
   "source": [
    "### 2.4. Fourth Word2Vec \n",
    "\n",
    "- Embeddings size = 100\n",
    "- Window size = 20\n",
    "- BOW\n",
    "- K-Negative = 20"
   ]
  },
  {
   "cell_type": "code",
   "execution_count": 205,
   "metadata": {},
   "outputs": [],
   "source": [
    "model4 = gensim.models.Word2Vec(size=100, \n",
    "                               alpha=0.025, \n",
    "                               window=20, \n",
    "                               min_count=5, \n",
    "                               sample=0.001, \n",
    "                               workers=-1, \n",
    "                               min_alpha=0.0001, \n",
    "                               sg=0, # Training algorithm: 1 for skip-gram; otherwise CBOW\n",
    "                               hs=0, # If 1, hierarchical softmax will be used for model training. If 0, and negative is non-zero, negative sampling will be used.\n",
    "                               negative=20, # K-negative\n",
    "                               ns_exponent=0.75,\n",
    "                               cbow_mean=1, \n",
    "                               iter=5, \n",
    "                               null_word=0, \n",
    "                               trim_rule=None, \n",
    "                               sorted_vocab=1, \n",
    "                               batch_words=10000, \n",
    "                               compute_loss=False, \n",
    "                               callbacks=(), \n",
    "                               max_final_vocab=None)"
   ]
  },
  {
   "cell_type": "code",
   "execution_count": 206,
   "metadata": {},
   "outputs": [],
   "source": [
    "# 1. build the vocabulary\n",
    "model4.build_vocab(clean_docs)"
   ]
  },
  {
   "cell_type": "code",
   "execution_count": 207,
   "metadata": {},
   "outputs": [
    {
     "data": {
      "text/plain": [
       "(0, 0)"
      ]
     },
     "execution_count": 207,
     "metadata": {},
     "output_type": "execute_result"
    }
   ],
   "source": [
    "# 2. train the model\n",
    "model4.train(clean_docs,\n",
    "            total_examples=model4.corpus_count,\n",
    "            epochs=100)"
   ]
  },
  {
   "cell_type": "code",
   "execution_count": 208,
   "metadata": {},
   "outputs": [
    {
     "name": "stdout",
     "output_type": "stream",
     "text": [
      "Warning:  152415  out of  5617513  could not be embedded\n"
     ]
    }
   ],
   "source": [
    "# 3. represent the corpus using the word embeddings\n",
    "docs_emb = docs2embs(model4,clean_docs)"
   ]
  },
  {
   "cell_type": "code",
   "execution_count": 209,
   "metadata": {},
   "outputs": [],
   "source": [
    "# 4. use the word embeddings to generate a representation of the document\n",
    "docs_final = doc_embedding_sum(docs_emb)"
   ]
  },
  {
   "cell_type": "code",
   "execution_count": 210,
   "metadata": {},
   "outputs": [
    {
     "name": "stdout",
     "output_type": "stream",
     "text": [
      "\n",
      "*****Testing ratio:  0.5\n",
      "\n",
      "*****Testing ratio:  0.55\n",
      "\n",
      "*****Testing ratio:  0.6\n",
      "\n",
      "*****Testing ratio:  0.65\n",
      "\n",
      "*****Testing ratio:  0.7\n",
      "\n",
      "*****Testing ratio:  0.75\n",
      "\n",
      "*****Testing ratio:  0.8\n",
      "\n",
      "*****Testing ratio:  0.85\n",
      "\n",
      "*****Testing ratio:  0.9\n",
      "\n",
      "*****Testing ratio:  0.95\n",
      "\n",
      "*****Testing ratio:  0.975\n",
      "\n",
      "*****Testing ratio:  0.99\n"
     ]
    }
   ],
   "source": [
    "# 5. test performance!\n",
    "LR = LogisticRegression(solver='lbfgs', n_jobs = -1)\n",
    "\n",
    "ratios = [r/100 for r in list(range(50,99,5))]\n",
    "ratios.extend([0.975, 0.99])\n",
    "\n",
    "accuracies = []\n",
    "for ratio in ratios:\n",
    "    print(\"\\n*****Testing ratio: \", ratio)\n",
    "    accuracies.append(test_ratio2(docs_final, movies.positive, LR, ratio))"
   ]
  },
  {
   "cell_type": "code",
   "execution_count": 211,
   "metadata": {},
   "outputs": [],
   "source": [
    "results['word2vec_4'] = accuracies"
   ]
  },
  {
   "cell_type": "code",
   "execution_count": 236,
   "metadata": {},
   "outputs": [
    {
     "data": {
      "image/png": "[encoded data removed]",
      "text/plain": [
       "<Figure size 432x288 with 1 Axes>"
      ]
     },
     "metadata": {
      "needs_background": "light"
     },
     "output_type": "display_data"
    }
   ],
   "source": [
    "ratios = [r*100 for r in ratios]\n",
    "plt.plot(ratios, results['TF'], label='Term Frequency')\n",
    "plt.plot(ratios, results['word2vec_1'], label='Word2Vec 1')\n",
    "plt.plot(ratios, results['word2vec_2'], label='Word2Vec 2')\n",
    "plt.plot(ratios, results['word2vec_3'], label='Word2Vec 3')\n",
    "plt.plot(ratios, results['word2vec_4'], label='Word2Vec 4')\n",
    "plt.ylabel('Test accuracy')\n",
    "plt.xlabel('Percentage of data for testing')\n",
    "plt.legend()\n",
    "plt.show()"
   ]
  },
  {
   "cell_type": "markdown",
   "metadata": {},
   "source": [
    "### 2.5. Fifth Word2Vec: is it all about the size? \n",
    "\n",
    "- Embeddings size = 300\n",
    "- Window size = 20\n",
    "- BOW\n",
    "- K-Negative = 20"
   ]
  },
  {
   "cell_type": "code",
   "execution_count": 213,
   "metadata": {},
   "outputs": [],
   "source": [
    "model5 = gensim.models.Word2Vec(size=300, \n",
    "                               alpha=0.025, \n",
    "                               window=20, \n",
    "                               min_count=5, \n",
    "                               sample=0.001, \n",
    "                               workers=-1, \n",
    "                               min_alpha=0.0001, \n",
    "                               sg=0, # Training algorithm: 1 for skip-gram; otherwise CBOW\n",
    "                               hs=0, # If 1, hierarchical softmax will be used for model training. If 0, and negative is non-zero, negative sampling will be used.\n",
    "                               negative=20, # K-negative\n",
    "                               ns_exponent=0.75,\n",
    "                               cbow_mean=1, \n",
    "                               iter=5, \n",
    "                               null_word=0, \n",
    "                               trim_rule=None, \n",
    "                               sorted_vocab=1, \n",
    "                               batch_words=10000, \n",
    "                               compute_loss=False, \n",
    "                               callbacks=(), \n",
    "                               max_final_vocab=None)"
   ]
  },
  {
   "cell_type": "code",
   "execution_count": 214,
   "metadata": {},
   "outputs": [],
   "source": [
    "# 1. build the vocabulary\n",
    "model5.build_vocab(clean_docs)"
   ]
  },
  {
   "cell_type": "code",
   "execution_count": 215,
   "metadata": {},
   "outputs": [
    {
     "data": {
      "text/plain": [
       "(0, 0)"
      ]
     },
     "execution_count": 215,
     "metadata": {},
     "output_type": "execute_result"
    }
   ],
   "source": [
    "# 2. train the model\n",
    "model5.train(clean_docs,\n",
    "            total_examples=model5.corpus_count,\n",
    "            epochs=100)"
   ]
  },
  {
   "cell_type": "code",
   "execution_count": 216,
   "metadata": {},
   "outputs": [
    {
     "name": "stdout",
     "output_type": "stream",
     "text": [
      "Warning:  152415  out of  5617513  could not be embedded\n"
     ]
    }
   ],
   "source": [
    "# 3. represent the corpus using the word embeddings\n",
    "docs_emb = docs2embs(model5,clean_docs)"
   ]
  },
  {
   "cell_type": "code",
   "execution_count": 217,
   "metadata": {},
   "outputs": [],
   "source": [
    "# 4. use the word embeddings to generate a representation of the document\n",
    "docs_final = doc_embedding_sum(docs_emb)"
   ]
  },
  {
   "cell_type": "code",
   "execution_count": 218,
   "metadata": {},
   "outputs": [
    {
     "name": "stdout",
     "output_type": "stream",
     "text": [
      "\n",
      "***** Testing ratio:  0.5\n",
      "\n",
      "***** Testing ratio:  0.55\n",
      "\n",
      "***** Testing ratio:  0.6\n",
      "\n",
      "***** Testing ratio:  0.65\n",
      "\n",
      "***** Testing ratio:  0.7\n",
      "\n",
      "***** Testing ratio:  0.75\n",
      "\n",
      "***** Testing ratio:  0.8\n",
      "\n",
      "***** Testing ratio:  0.85\n",
      "\n",
      "***** Testing ratio:  0.9\n",
      "\n",
      "***** Testing ratio:  0.95\n",
      "\n",
      "***** Testing ratio:  0.975\n",
      "\n",
      "***** Testing ratio:  0.99\n"
     ]
    }
   ],
   "source": [
    "# 5. test performance!\n",
    "LR = LogisticRegression(solver='lbfgs', n_jobs = -1)\n",
    "\n",
    "ratios = [r/100 for r in list(range(50,99,5))]\n",
    "ratios.extend([0.975, 0.99])\n",
    "\n",
    "accuracies = []\n",
    "for ratio in ratios:\n",
    "    print(\"\\n***** Testing ratio: \", ratio)\n",
    "    accuracies.append(test_ratio2(docs_final, movies.positive, LR, ratio))"
   ]
  },
  {
   "cell_type": "code",
   "execution_count": 219,
   "metadata": {},
   "outputs": [],
   "source": [
    "results['word2vec_5'] = accuracies"
   ]
  },
  {
   "cell_type": "code",
   "execution_count": 237,
   "metadata": {},
   "outputs": [
    {
     "data": {
      "image/png": "[encoded data removed]",
      "text/plain": [
       "<Figure size 432x288 with 1 Axes>"
      ]
     },
     "metadata": {
      "needs_background": "light"
     },
     "output_type": "display_data"
    }
   ],
   "source": [
    "ratios = [r*100 for r in ratios]\n",
    "plt.plot(ratios, results['TF'], label='Term Frequency')\n",
    "plt.plot(ratios, results['word2vec_1'], label='Word2Vec 1')\n",
    "plt.plot(ratios, results['word2vec_2'], label='Word2Vec 2')\n",
    "plt.plot(ratios, results['word2vec_3'], label='Word2Vec 3')\n",
    "plt.plot(ratios, results['word2vec_4'], label='Word2Vec 4')\n",
    "plt.plot(ratios, results['word2vec_5'], label='Word2Vec 5')\n",
    "plt.ylabel('Test accuracy')\n",
    "plt.xlabel('Percentage of data for testing')\n",
    "plt.legend()\n",
    "plt.show()"
   ]
  },
  {
   "cell_type": "markdown",
   "metadata": {},
   "source": [
    "### 2.6. Sixth Word2Vec \n",
    "\n",
    "- Embeddings size = 300\n",
    "- Window size = 5\n",
    "- BOW\n",
    "- K-Negative = 5\n"
   ]
  },
  {
   "cell_type": "code",
   "execution_count": 221,
   "metadata": {},
   "outputs": [],
   "source": [
    "model6 = gensim.models.Word2Vec(size=300, \n",
    "                               alpha=0.025, \n",
    "                               window=5, \n",
    "                               min_count=3, \n",
    "                               sample=0.001, \n",
    "                               workers=-1, \n",
    "                               min_alpha=0.0001, \n",
    "                               sg=0, # Training algorithm: 1 for skip-gram; otherwise CBOW\n",
    "                               hs=1, # If 1, hierarchical softmax will be used for model training. If 0, and negative is non-zero, negative sampling will be used.\n",
    "                               negative=5, # K-negative\n",
    "                               ns_exponent=0.75,\n",
    "                               cbow_mean=1, \n",
    "                               iter=20, \n",
    "                               null_word=0, \n",
    "                               trim_rule=None, \n",
    "                               sorted_vocab=1, \n",
    "                               batch_words=10000, \n",
    "                               compute_loss=False, \n",
    "                               callbacks=(), \n",
    "                               max_final_vocab=None)"
   ]
  },
  {
   "cell_type": "code",
   "execution_count": 222,
   "metadata": {},
   "outputs": [],
   "source": [
    "# 1. build the vocabulary\n",
    "model6.build_vocab(clean_docs)"
   ]
  },
  {
   "cell_type": "code",
   "execution_count": 223,
   "metadata": {},
   "outputs": [
    {
     "data": {
      "text/plain": [
       "(0, 0)"
      ]
     },
     "execution_count": 223,
     "metadata": {},
     "output_type": "execute_result"
    }
   ],
   "source": [
    "# 2. train the model\n",
    "model6.train(clean_docs,\n",
    "            total_examples=model6.corpus_count,\n",
    "            epochs=100)"
   ]
  },
  {
   "cell_type": "code",
   "execution_count": 224,
   "metadata": {},
   "outputs": [
    {
     "name": "stdout",
     "output_type": "stream",
     "text": [
      "Warning:  112559  out of  5617513  could not be embedded\n"
     ]
    }
   ],
   "source": [
    "# 3. represent the corpus using the word embeddings\n",
    "docs_emb = docs2embs(model6,clean_docs)"
   ]
  },
  {
   "cell_type": "code",
   "execution_count": 225,
   "metadata": {},
   "outputs": [],
   "source": [
    "# 4. use the word embeddings to generate a representation of the document\n",
    "docs_final = doc_embedding_sum(docs_emb)"
   ]
  },
  {
   "cell_type": "code",
   "execution_count": 226,
   "metadata": {},
   "outputs": [
    {
     "name": "stdout",
     "output_type": "stream",
     "text": [
      "\n",
      "***** Testing ratio:  0.5\n",
      "\n",
      "***** Testing ratio:  0.55\n",
      "\n",
      "***** Testing ratio:  0.6\n",
      "\n",
      "***** Testing ratio:  0.65\n",
      "\n",
      "***** Testing ratio:  0.7\n",
      "\n",
      "***** Testing ratio:  0.75\n",
      "\n",
      "***** Testing ratio:  0.8\n",
      "\n",
      "***** Testing ratio:  0.85\n",
      "\n",
      "***** Testing ratio:  0.9\n",
      "\n",
      "***** Testing ratio:  0.95\n",
      "\n",
      "***** Testing ratio:  0.975\n",
      "\n",
      "***** Testing ratio:  0.99\n"
     ]
    }
   ],
   "source": [
    "# 5. test performance!\n",
    "LR = LogisticRegression(solver='lbfgs', n_jobs = -1)\n",
    "\n",
    "ratios = [r/100 for r in list(range(50,99,5))]\n",
    "ratios.extend([0.975, 0.99])\n",
    "\n",
    "accuracies = []\n",
    "for ratio in ratios:\n",
    "    print(\"\\n***** Testing ratio: \", ratio)\n",
    "    accuracies.append(test_ratio2(docs_final, movies.positive, LR, ratio))"
   ]
  },
  {
   "cell_type": "code",
   "execution_count": 227,
   "metadata": {},
   "outputs": [],
   "source": [
    "results['word2vec_6'] = accuracies"
   ]
  },
  {
   "cell_type": "code",
   "execution_count": 242,
   "metadata": {},
   "outputs": [
    {
     "data": {
      "image/png": "[encoded data removed]",
      "text/plain": [
       "<Figure size 1152x720 with 1 Axes>"
      ]
     },
     "metadata": {
      "needs_background": "light"
     },
     "output_type": "display_data"
    }
   ],
   "source": [
    "#ratios = [r*100 for r in ratios]\n",
    "plt.figure(figsize=(16,10))\n",
    "\n",
    "plt.plot(ratios, results['TF'], label='Term Frequency')\n",
    "plt.plot(ratios, results['word2vec_1'], label='Word2Vec 1')\n",
    "plt.plot(ratios, results['word2vec_2'], label='Word2Vec 2')\n",
    "plt.plot(ratios, results['word2vec_3'], label='Word2Vec 3')\n",
    "plt.plot(ratios, results['word2vec_4'], label='Word2Vec 4')\n",
    "plt.plot(ratios, results['word2vec_5'], label='Word2Vec 5')\n",
    "plt.plot(ratios, results['word2vec_6'], label='Word2Vec 6')\n",
    "plt.ylabel('Test accuracy')\n",
    "plt.xlabel('Percentage of data for testing')\n",
    "plt.legend()\n",
    "plt.show()"
   ]
  },
  {
   "cell_type": "markdown",
   "metadata": {},
   "source": [
    "## Some conclusions\n",
    "\n",
    "- The term-frequency matrix learned on the whole dataset seems to outperform all of the word embeddings approaches tried. This could potentially be due to the fact that we only used half of the dataset; word embeddings might require to be trainned on more data to \"show their true potential\".\n",
    "\n",
    "- It is interesting to see that although the performance (measured by the accuracy in the test data) decreases as the percentage of data used for testing increases, this relationship is very non-linear. The decrease does not seem to be very significant when going from 50% to approximately 90%, but when we reach that point the decrease is very sharp.\n",
    "\n",
    "- It is also worth noting that the decrease in performance seems to be specially sharp for the approach that uses the term-frequency matrix"
   ]
  },
  {
   "cell_type": "code",
   "execution_count": 243,
   "metadata": {},
   "outputs": [],
   "source": [
    "with open('results.json', 'w') as fp:\n",
    "    json.dump(results, fp)"
   ]
  }
 ],
 "metadata": {
  "kernelspec": {
   "display_name": "Python 3",
   "language": "python",
   "name": "python3"
  },
  "language_info": {
   "codemirror_mode": {
    "name": "ipython",
    "version": 3
   },
   "file_extension": ".py",
   "mimetype": "text/x-python",
   "name": "python",
   "nbconvert_exporter": "python",
   "pygments_lexer": "ipython3",
   "version": "3.6.9"
  },
  "name": "assignment.ipynb",
  "toc": {
   "base_numbering": 1,
   "nav_menu": {},
   "number_sections": false,
   "sideBar": true,
   "skip_h1_title": false,
   "title_cell": "Table of Contents",
   "title_sidebar": "Contents",
   "toc_cell": false,
   "toc_position": {},
   "toc_section_display": true,
   "toc_window_display": false
  },
  "varInspector": {
   "cols": {
    "lenName": 16,
    "lenType": 16,
    "lenVar": 40
   },
   "kernels_config": {
    "python": {
     "delete_cmd_postfix": "",
     "delete_cmd_prefix": "del ",
     "library": "var_list.py",
     "varRefreshCmd": "print(var_dic_list())"
    },
    "r": {
     "delete_cmd_postfix": ") ",
     "delete_cmd_prefix": "rm(",
     "library": "var_list.r",
     "varRefreshCmd": "cat(var_dic_list()) "
    }
   },
   "types_to_exclude": [
    "module",
    "function",
    "builtin_function_or_method",
    "instance",
    "_Feature"
   ],
   "window_display": false
  }
 },
 "nbformat": 4,
 "nbformat_minor": 2
}
